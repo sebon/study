{
 "cells": [
  {
   "cell_type": "markdown",
   "metadata": {},
   "source": [
    "### 2.1 내장 시퀀스 개요\n",
    "#### 컨테이너 시퀀스  \n",
    "- 서로 다른 자료형의 항목들을 담을 수 있는 list, tuple, collections, deque형  \n",
    "\n",
    "#### 균일 시퀀스\n",
    "- 단 하나의 자료형만 담을 수 있는 str, bytes, bytearray, memoryview, array.array형"
   ]
  },
  {
   "cell_type": "markdown",
   "metadata": {
    "collapsed": true
   },
   "source": [
    "#### 가변 시퀀스\n",
    "- list, bytearray, array.array, collections.deque, memoryview 형\n",
    "\n",
    "#### 불변 시퀀스\n",
    "- tuple, str, bytes 형"
   ]
  },
  {
   "cell_type": "markdown",
   "metadata": {},
   "source": [
    "### 2.2 지능형 리스트와 제너레이터 표현식"
   ]
  },
  {
   "cell_type": "code",
   "execution_count": null,
   "metadata": {
    "collapsed": false
   },
   "outputs": [],
   "source": [
    "import timeit\n",
    "\n",
    "TIMES = 10000\n",
    "\n",
    "SETUP = \"\"\"\n",
    "symbols = '$¢£¥€¤'\n",
    "def non_ascii(c):\n",
    "    return c > 127\n",
    "\"\"\"\n",
    "\n",
    "def clock(label, cmd):\n",
    "    res = timeit.repeat(cmd, setup=SETUP, number=TIMES)\n",
    "    print(label, *('{:.3f}'.format(x) for x in res))\n",
    "\n",
    "clock('listcomp        :', '[ord(s) for s in symbols if ord(s) > 127]')\n",
    "clock('listcomp + func :', '[ord(s) for s in symbols if non_ascii(ord(s))]')\n",
    "clock('filter + lambda :', 'list(filter(lambda c: c > 127, map(ord, symbols)))')\n",
    "clock('filter + func   :', 'list(filter(non_ascii, map(ord, symbols)))')\n"
   ]
  },
  {
   "cell_type": "code",
   "execution_count": null,
   "metadata": {
    "collapsed": false
   },
   "outputs": [],
   "source": [
    "colors = [\"black\", \"white\"]\n",
    "sizes = [\"S\", \"M\", \"L\"]\n",
    "tshirts = [(color, size) for color in colors for size in sizes]\n",
    "print(tshirts)\n",
    "\n",
    "for color in colors:\n",
    "    for size in sizes:\n",
    "        print((color, size))"
   ]
  },
  {
   "cell_type": "code",
   "execution_count": null,
   "metadata": {
    "collapsed": false
   },
   "outputs": [],
   "source": [
    "symbols = '$¢£¥€¤'\n",
    "tuple(ord(symbol) for symbol in symbols)\n",
    "import array\n",
    "array.array(\"I\", (ord(symbol) for symbol in symbols))"
   ]
  },
  {
   "cell_type": "code",
   "execution_count": null,
   "metadata": {
    "collapsed": false
   },
   "outputs": [],
   "source": [
    "colors = [\"black\", \"white\"]\n",
    "sizes = [\"S\", \"M\", \"L\"]\n",
    "for tshirt in (\"%s %s\" %(c,s) for c in colors for s in sizes):\n",
    "    print(tshirt)"
   ]
  },
  {
   "cell_type": "markdown",
   "metadata": {
    "collapsed": true
   },
   "source": [
    "### 2.3 튜플은 단순한 불변 리스트가 아니다.\n",
    "#### 2.3.1 레코드로서의 튜플"
   ]
  },
  {
   "cell_type": "code",
   "execution_count": null,
   "metadata": {
    "collapsed": false
   },
   "outputs": [],
   "source": [
    "\n",
    "lax_coordinates = (33.9425, -118.408056)\n",
    "city, year, pop, chg, area = ('Tokyo', 2003, 32450, 0.66, 8014)\n",
    "travel_ids = [(\"USA\", \"31195855\"),(\"BRA\", \"CE342567\"), (\"ESP\", \"XDA205856\")]\n",
    "for passport in sorted(travel_ids):\n",
    "    print(\"%s/%s\"% passport)\n",
    "    print(\"{0}/{1}\".format(*passport))\n",
    "\n",
    "for country, _ in travel_ids:\n",
    "    print(country)"
   ]
  },
  {
   "cell_type": "markdown",
   "metadata": {},
   "source": [
    "#### 2.3.2 튜플 언패킹"
   ]
  },
  {
   "cell_type": "code",
   "execution_count": null,
   "metadata": {
    "collapsed": false
   },
   "outputs": [],
   "source": [
    "lax_coordinates =(33.9425, - 118.408056)\n",
    "latitude, longitude =lax_coordinates # 튜플 언패킹\n",
    "print (latitude)\n",
    "print (longitude)"
   ]
  },
  {
   "cell_type": "code",
   "execution_count": null,
   "metadata": {
    "collapsed": false
   },
   "outputs": [],
   "source": [
    "divmod(20,8)\n",
    "t= (20,8)\n",
    "divmod(*t)\n",
    "quotient, remainder = divmod(*t)\n",
    "print (quotient, remainder)"
   ]
  },
  {
   "cell_type": "code",
   "execution_count": null,
   "metadata": {
    "collapsed": false
   },
   "outputs": [],
   "source": [
    "import os\n",
    "_, filename = os.path.split(\"/home/luciano/.ssh/idrsa.pub\")\n",
    "filename"
   ]
  },
  {
   "cell_type": "markdown",
   "metadata": {},
   "source": [
    "_ 와 같은 더미 변수를 플레이스홀더로 사용해서 관심 없는 부분은 언패킹할 때 무시할 수 있다."
   ]
  },
  {
   "cell_type": "code",
   "execution_count": null,
   "metadata": {
    "collapsed": false
   },
   "outputs": [],
   "source": [
    "a, b, *rest = range(5)\n",
    "print ((a, b, rest))\n",
    "a, b, *rest = range(3)\n",
    "print ((a, b, rest))\n",
    "a, b, *rest =  range(2)\n",
    "print ((a, b, rest))"
   ]
  },
  {
   "cell_type": "code",
   "execution_count": null,
   "metadata": {
    "collapsed": false
   },
   "outputs": [],
   "source": [
    "a, *body, c, d = range(5)\n",
    "print((a, body, c,d))\n",
    "*head ,b, c, d = range(5)\n",
    "print((head ,b, c, d))\n"
   ]
  },
  {
   "cell_type": "markdown",
   "metadata": {},
   "source": [
    "#### 2.3.3 내포된 튜플 언패킹"
   ]
  },
  {
   "cell_type": "code",
   "execution_count": null,
   "metadata": {
    "collapsed": false
   },
   "outputs": [],
   "source": [
    "metro_areas = [\n",
    "    (\"Tokyo\", \"JP\", 36.933, (35.689722, 139.691667)),\n",
    "    (\"Delhi NCR\", \"IN\", 21.935, (28.613889, 77.208889)),\n",
    "    (\"Mexico City\", \"MX\", 20.142, (19.433333, -99.133333)),\n",
    "    (\"New York-Newark\", \"US\", 20.104, (40.808611, -74.020386)),\n",
    "    (\"Sao Paulo\", \"BR\", 19.649, (-23.547778, -46.635833)),    \n",
    "]\n",
    "\n",
    "print (\"{:15} | {:^9} | {:^9}\".format(\"\", \"lat. \", \"long. \"))\n",
    "fmt = \"{:15} | {:9.4f} | {:9.4f}\"\n",
    "for name, cc, pop, (latitued, longitude) in metro_areas:\n",
    "    if longitude <= 0:\n",
    "        print(fmt.format(name, latitude, longitude))"
   ]
  },
  {
   "cell_type": "markdown",
   "metadata": {},
   "source": [
    "#### 2.3.4 명명된 튜플"
   ]
  },
  {
   "cell_type": "code",
   "execution_count": null,
   "metadata": {
    "collapsed": false
   },
   "outputs": [],
   "source": [
    "from collections import namedtuple\n",
    "City = namedtuple(\"City\", \"name country population coordinates\")\n",
    "tokyo = City(\"Tokyo\", \"JP\", 36.933, (35.689722, 139.691667))\n",
    "print (tokyo)\n",
    "print (tokyo.population)\n",
    "print (tokyo.coordinates)\n",
    "print (tokyo[1])"
   ]
  },
  {
   "cell_type": "code",
   "execution_count": null,
   "metadata": {
    "collapsed": false
   },
   "outputs": [],
   "source": [
    "City._fields\n",
    "LatLong = namedtuple(\"LatLong\", \"lat long\")\n",
    "delhi_data = (\"Delhi NCR\", \"IN\", 21.935, LatLong(28.613889, 77.208889))\n",
    "delhi = City._make(delhi_data)\n",
    "print (delhi)\n",
    "delhi._asdict()\n",
    "for key, value in delhi._asdict().items():\n",
    "    print (key + \":\", value)"
   ]
  },
  {
   "cell_type": "markdown",
   "metadata": {
    "collapsed": true
   },
   "source": [
    "#### 2.3.5 불변 리스트로서의 튜플"
   ]
  },
  {
   "cell_type": "markdown",
   "metadata": {},
   "source": [
    "### 2.4 슬라이싱  \n",
    "#### 2.4.1 슬라이스 범위 지정시에 마지막 항목이 포함되지 않는 이유"
   ]
  },
  {
   "cell_type": "code",
   "execution_count": null,
   "metadata": {
    "collapsed": false
   },
   "outputs": [],
   "source": [
    "l = [10, 20, 30, 40, 50, 60]\n",
    "print (l[:2])\n",
    "print (l[2:])\n",
    "print (l[:3]) # 3번 인덱스에서 분할\n",
    "print (l[3:])"
   ]
  },
  {
   "cell_type": "markdown",
   "metadata": {},
   "source": [
    "#### 2.4.2 슬라이스 객체"
   ]
  },
  {
   "cell_type": "code",
   "execution_count": null,
   "metadata": {
    "collapsed": false
   },
   "outputs": [],
   "source": [
    "s = \"bicycle\"\n",
    "print (s[::3])\n",
    "print (s[::-1])\n",
    "print (s[::-2])"
   ]
  },
  {
   "cell_type": "markdown",
   "metadata": {},
   "source": [
    "#### 2.4.3  다차원 슬라이싱과 생략 기호"
   ]
  },
  {
   "cell_type": "markdown",
   "metadata": {},
   "source": [
    "#### 2.4.4 슬라이스에 할당하기"
   ]
  },
  {
   "cell_type": "code",
   "execution_count": null,
   "metadata": {
    "collapsed": false
   },
   "outputs": [],
   "source": [
    "l = list(range(10))\n",
    "print (l)\n",
    "print (l[2:5])\n",
    "l[2:5] = [20, 30]\n",
    "print (l)\n",
    "del l[5:7]\n",
    "print (l)\n",
    "\n",
    "l[3::2] = [11,22]\n",
    "print (l)\n",
    "\n",
    "#l[2:5] = 100\n",
    "l[2:5] = [100]\n",
    "print (l)"
   ]
  },
  {
   "cell_type": "markdown",
   "metadata": {},
   "source": [
    "### 2.5 시퀀스에 덧셈과 곱셈 연산자 사용하기"
   ]
  },
  {
   "cell_type": "code",
   "execution_count": null,
   "metadata": {
    "collapsed": false
   },
   "outputs": [],
   "source": [
    "l = [1, 2, 3]\n",
    "print (l*5)\n",
    "print (5*\"abcd\")"
   ]
  },
  {
   "cell_type": "markdown",
   "metadata": {},
   "source": [
    "#### 2.5.1 리스트의 리스트 만들기"
   ]
  },
  {
   "cell_type": "code",
   "execution_count": null,
   "metadata": {
    "collapsed": false
   },
   "outputs": [],
   "source": [
    "board = [['_']*3 for i in range(3)]\n",
    "print (board)\n",
    "board[1][2] = 'X'\n",
    "print (board)\n",
    "\n",
    "board = []\n",
    "for i in range(3):\n",
    "    row = [\"_\"] *3\n",
    "    board.append(row)\n",
    "print (board)\n",
    "board[1][2] = 'X'\n",
    "print (board)"
   ]
  },
  {
   "cell_type": "code",
   "execution_count": null,
   "metadata": {
    "collapsed": false
   },
   "outputs": [],
   "source": [
    "weird_board = [['_'] * 3 ] *3\n",
    "print (weird_board)\n",
    "weird_board[1][2] ='0'\n",
    "print (weird_board)\n",
    "\n",
    "row = ['_'] *3\n",
    "board = []\n",
    "for i in range(3):\n",
    "    board.append(row)\n",
    "print (board)\n",
    "board[1][2] ='0'\n",
    "print (board)"
   ]
  },
  {
   "cell_type": "markdown",
   "metadata": {
    "collapsed": true
   },
   "source": [
    "### 2.6 시퀀스의 복합 할당"
   ]
  },
  {
   "cell_type": "code",
   "execution_count": null,
   "metadata": {
    "collapsed": false
   },
   "outputs": [],
   "source": [
    "l = [1,2,3]\n",
    "print (id(l))\n",
    "l *= 2\n",
    "print(l)\n",
    "print (id(l))\n",
    "\n",
    "t = (1,2,3)\n",
    "print (id(t))\n",
    "t *= 2\n",
    "print (id(t))"
   ]
  },
  {
   "cell_type": "code",
   "execution_count": null,
   "metadata": {
    "collapsed": false
   },
   "outputs": [],
   "source": [
    "t = (1,2,[30, 40])\n",
    "t[2] += [50, 60]"
   ]
  },
  {
   "cell_type": "code",
   "execution_count": null,
   "metadata": {
    "collapsed": false
   },
   "outputs": [],
   "source": [
    "print (t)"
   ]
  },
  {
   "cell_type": "markdown",
   "metadata": {},
   "source": [
    "### 2.7 list.sort() 와 sorted 내장함수"
   ]
  },
  {
   "cell_type": "code",
   "execution_count": 15,
   "metadata": {
    "collapsed": false
   },
   "outputs": [
    {
     "name": "stdout",
     "output_type": "stream",
     "text": [
      "['grape', 'rasberry', 'apple', 'banana']\n",
      "['apple', 'banana', 'grape', 'rasberry']\n",
      "['rasberry', 'grape', 'banana', 'apple']\n",
      "['grape', 'apple', 'banana', 'rasberry']\n",
      "['rasberry', 'banana', 'grape', 'apple']\n",
      "['grape', 'rasberry', 'apple', 'banana']\n",
      "['apple', 'banana', 'grape', 'rasberry']\n"
     ]
    }
   ],
   "source": [
    "fruits = ['grape', 'rasberry', 'apple', 'banana']\n",
    "print (fruits)\n",
    "print (sorted(fruits))\n",
    "print (sorted(fruits, reverse= True))\n",
    "print (sorted(fruits,key= len))\n",
    "print (sorted(fruits,key= len, reverse = True))\n",
    "print (fruits)\n",
    "fruits.sort()\n",
    "print (fruits)"
   ]
  },
  {
   "cell_type": "markdown",
   "metadata": {},
   "source": [
    "### 2.8 정렬된 시퀀스를 bisect로 관리하기\n",
    "#### 2.8.1  bisect()로 검색하기"
   ]
  },
  {
   "cell_type": "code",
   "execution_count": 1,
   "metadata": {
    "collapsed": false
   },
   "outputs": [
    {
     "name": "stdout",
     "output_type": "stream",
     "text": [
      "DEMO: bisect\n",
      "haystack ->  1  4  5  6  8 12 15 20 21 23 23 26 29 30\n",
      "31 @ 14      |  |  |  |  |  |  |  |  |  |  |  |  |  |31\n",
      "30 @ 14      |  |  |  |  |  |  |  |  |  |  |  |  |  |30\n",
      "29 @ 13      |  |  |  |  |  |  |  |  |  |  |  |  |29\n",
      "23 @ 11      |  |  |  |  |  |  |  |  |  |  |23\n",
      "22 @  9      |  |  |  |  |  |  |  |  |22\n",
      "10 @  5      |  |  |  |  |10\n",
      " 8 @  5      |  |  |  |  |8 \n",
      " 5 @  3      |  |  |5 \n",
      " 2 @  1      |2 \n",
      " 1 @  1      |1 \n",
      " 0 @  0    0 \n"
     ]
    }
   ],
   "source": [
    "import bisect\n",
    "import sys\n",
    "\n",
    "HAYSTACK = [1,4,5,6,8,12,15,20,21,23,23,26,29,30]\n",
    "NEEDLES = [0,1,2,5,8,10,22,23,29,30,31]\n",
    "\n",
    "ROW_FMT = \"{0:2d} @ {1:2d}    {2}{0:<2d}\"\n",
    "\n",
    "def demo(bisect_fn):\n",
    "    for needle in reversed(NEEDLES):\n",
    "        position = bisect_fn(HAYSTACK, needle)\n",
    "        offset = position *\"  |\"\n",
    "        print(ROW_FMT.format(needle, position, offset))\n",
    "        \n",
    "if __name__ == \"__main__\":\n",
    "    if sys.argv[-1] == 'left':\n",
    "        bisect_fn = bisect.bisect_left\n",
    "    else:\n",
    "        bisect_fn = bisect.bisect\n",
    "\n",
    "print (\"DEMO:\", bisect_fn.__name__)\n",
    "print (\"haystack ->\", \" \".join(\"%2d\" % n for n in HAYSTACK))\n",
    "demo(bisect_fn)"
   ]
  },
  {
   "cell_type": "code",
   "execution_count": 2,
   "metadata": {
    "collapsed": false
   },
   "outputs": [
    {
     "name": "stdout",
     "output_type": "stream",
     "text": [
      "['F', 'A', 'C', 'C', 'B', 'A', 'A']\n"
     ]
    }
   ],
   "source": [
    "def grade(score, breakpoints=[60,70,80,90], grades=\"FDCBA\"):\n",
    "    i = bisect.bisect(breakpoints, score)\n",
    "    return grades[i]\n",
    "\n",
    "print ([grade(score) for score in [33,99,77,70,89,90,100]])"
   ]
  },
  {
   "cell_type": "markdown",
   "metadata": {},
   "source": [
    "#### 2.8.2  bisect.insort()로 삽입하기"
   ]
  },
  {
   "cell_type": "code",
   "execution_count": 3,
   "metadata": {
    "collapsed": false
   },
   "outputs": [
    {
     "name": "stdout",
     "output_type": "stream",
     "text": [
      "10 -> [10]\n",
      " 0 -> [0, 10]\n",
      " 6 -> [0, 6, 10]\n",
      " 8 -> [0, 6, 8, 10]\n",
      " 7 -> [0, 6, 7, 8, 10]\n",
      " 2 -> [0, 2, 6, 7, 8, 10]\n",
      "10 -> [0, 2, 6, 7, 8, 10, 10]\n"
     ]
    }
   ],
   "source": [
    "import bisect\n",
    "import random\n",
    "\n",
    "SIZE = 7\n",
    "random.seed(1729)\n",
    "\n",
    "my_list = []\n",
    "for i in range(SIZE):\n",
    "    new_item = random.randrange(SIZE*2)\n",
    "    bisect.insort(my_list, new_item)\n",
    "    print(\"%2d ->\" % new_item, my_list)"
   ]
  },
  {
   "cell_type": "markdown",
   "metadata": {
    "collapsed": true
   },
   "source": [
    "### 2.9 리스트가 답이 아닐 때  \n",
    "- 리스트의 양쪽 끝에 항목을 계속 추가하거나 삭제하면서 FIFO나 LIFO데이터 구조를 구현할 때는 데크(deque)가 더 빠르다. \n",
    "\n",
    "#### 2.9.1 배열\n",
    "- 리스트 안에 숫자만 들어있다면 배열(array.array)이 리스트보다 훨씬 더 효율적이다."
   ]
  },
  {
   "cell_type": "code",
   "execution_count": 10,
   "metadata": {
    "collapsed": false
   },
   "outputs": [
    {
     "name": "stdout",
     "output_type": "stream",
     "text": [
      "0.23568508397572463\n",
      "0.23568508397572463\n",
      "True\n"
     ]
    },
    {
     "ename": "AttributeError",
     "evalue": "type object 'array.array' has no attribute 'array'",
     "output_type": "error",
     "traceback": [
      "\u001b[0;31m---------------------------------------------------------------------------\u001b[0m",
      "\u001b[0;31mAttributeError\u001b[0m                            Traceback (most recent call last)",
      "\u001b[0;32m<ipython-input-10-a2ed8aea009b>\u001b[0m in \u001b[0;36m<module>\u001b[0;34m()\u001b[0m\n\u001b[1;32m     16\u001b[0m \u001b[0;34m\u001b[0m\u001b[0m\n\u001b[1;32m     17\u001b[0m \u001b[0;31m# sort\u001b[0m\u001b[0;34m\u001b[0m\u001b[0;34m\u001b[0m\u001b[0m\n\u001b[0;32m---> 18\u001b[0;31m \u001b[0ma\u001b[0m \u001b[0;34m=\u001b[0m \u001b[0marray\u001b[0m\u001b[0;34m.\u001b[0m\u001b[0marray\u001b[0m\u001b[0;34m(\u001b[0m\u001b[0ma\u001b[0m\u001b[0;34m.\u001b[0m\u001b[0mtypecode\u001b[0m\u001b[0;34m,\u001b[0m \u001b[0msorted\u001b[0m\u001b[0;34m(\u001b[0m\u001b[0ma\u001b[0m\u001b[0;34m)\u001b[0m\u001b[0;34m)\u001b[0m\u001b[0;34m\u001b[0m\u001b[0m\n\u001b[0m\u001b[1;32m     19\u001b[0m \u001b[0mprint\u001b[0m \u001b[0;34m(\u001b[0m\u001b[0mfloats\u001b[0m\u001b[0;34m.\u001b[0m\u001b[0mtypecode\u001b[0m\u001b[0;34m)\u001b[0m\u001b[0;34m\u001b[0m\u001b[0m\n",
      "\u001b[0;31mAttributeError\u001b[0m: type object 'array.array' has no attribute 'array'"
     ]
    }
   ],
   "source": [
    "from array import array\n",
    "from random import random\n",
    "floats = array('d', (random() for i in range (10**7)))\n",
    "print (floats[-1])\n",
    "fp = open('floats.bin', 'wb')\n",
    "floats.tofile(fp) # 모든 항목을 파일 fp에 쓴다. 데이터는 머신에 특화된 이진 포맷으로 저장된다.\n",
    "fp.close()\n",
    "\n",
    "floats2 = array('d')\n",
    "fp = open('floats.bin', 'rb')\n",
    "floats2.fromfile(fp, 10**7) # 파일 객체 fp에서 10**7개의 항목을 읽어온다음 floats2의 배열에 추가한다.\n",
    "fp.close()\n",
    "print (floats2[-1])\n",
    "\n",
    "print (floats2 == floats)\n",
    "\n",
    "# sort\n",
    "a = array.array(a.typecode, sorted(a))\n",
    "print (floats.typecode)"
   ]
  },
  {
   "cell_type": "markdown",
   "metadata": {},
   "source": [
    "#### 2.9.2 메모리 뷰  \n",
    "- 메모리 뷰 내장 클래스는 공유 메모리 시퀀스형으로서 bytes를 복사하지 않고 배열의 슬라이스를 다룰 수 있게 해준다."
   ]
  },
  {
   "cell_type": "code",
   "execution_count": 32,
   "metadata": {
    "collapsed": false
   },
   "outputs": [
    {
     "name": "stdout",
     "output_type": "stream",
     "text": [
      "5\n",
      "-2\n",
      "array('h', [-2, -1, 1024, 1, 2])\n"
     ]
    }
   ],
   "source": [
    "import array\n",
    "numbers =  array.array('h', [-2, -1, 0, 1, 2])\n",
    "memv = memoryview(numbers)\n",
    "print (len(memv))\n",
    "print (memv[0])\n",
    "memv_oct = memv.cast('B')\n",
    "memv_oct.tolist()\n",
    "memv_oct[5] =4\n",
    "print (numbers)"
   ]
  },
  {
   "cell_type": "markdown",
   "metadata": {},
   "source": [
    "#### 2.9.3 NumPy와 SciPy"
   ]
  },
  {
   "cell_type": "code",
   "execution_count": 33,
   "metadata": {
    "collapsed": false
   },
   "outputs": [
    {
     "name": "stdout",
     "output_type": "stream",
     "text": [
      "[ 0  1  2  3  4  5  6  7  8  9 10 11]\n",
      "<class 'numpy.ndarray'>\n",
      "(12,)\n",
      "[[ 0  1  2  3]\n",
      " [ 4  5  6  7]\n",
      " [ 8  9 10 11]]\n",
      "[ 8  9 10 11]\n",
      "9\n",
      "[1 5 9]\n",
      "[[ 0  4  8]\n",
      " [ 1  5  9]\n",
      " [ 2  6 10]\n",
      " [ 3  7 11]]\n"
     ]
    }
   ],
   "source": [
    "import numpy\n",
    "a = numpy.arange(12)\n",
    "print (a)\n",
    "print (type(a))\n",
    "print (a.shape)\n",
    "a.shape = 3,4\n",
    "print (a)\n",
    "print (a[2])\n",
    "print (a[2,1])\n",
    "print (a[:, 1])\n",
    "print (a.transpose()) # 행과 열을 바꾼다."
   ]
  },
  {
   "cell_type": "markdown",
   "metadata": {},
   "source": [
    "#### 2.9.4 데크 및 기타 큐\n",
    "- 양쪽 끝에 추가나 제거하는 연산에 최적화 되어 있기 떄문에 중간 항목을 삭제하는 연산은 그리 빠르지 않다."
   ]
  },
  {
   "cell_type": "code",
   "execution_count": 43,
   "metadata": {
    "collapsed": false
   },
   "outputs": [
    {
     "name": "stdout",
     "output_type": "stream",
     "text": [
      "deque([0, 1, 2, 3, 4, 5, 6, 7, 8, 9], maxlen=10)\n",
      "deque([7, 8, 9, 0, 1, 2, 3, 4, 5, 6], maxlen=10)\n",
      "deque([1, 2, 3, 4, 5, 6, 7, 8, 9, 0], maxlen=10)\n",
      "deque([-1, 1, 2, 3, 4, 5, 6, 7, 8, 9], maxlen=10)\n",
      "deque([3, 4, 5, 6, 7, 8, 9, 11, 22, 33], maxlen=10)\n",
      "deque([40, 30, 20, 10, 3, 4, 5, 6, 7, 8], maxlen=10)\n"
     ]
    }
   ],
   "source": [
    "from collections import deque\n",
    "dq = deque(range(10), maxlen=10)\n",
    "print (dq)\n",
    "dq.rotate(3)\n",
    "print (dq)\n",
    "dq.rotate(-4)\n",
    "print (dq)\n",
    "dq.appendleft(-1)\n",
    "print (dq)\n",
    "dq.extend([11,22,33])\n",
    "print (dq)\n",
    "dq.extendleft([10,20,30,40])\n",
    "print (dq)"
   ]
  },
  {
   "cell_type": "code",
   "execution_count": null,
   "metadata": {
    "collapsed": true
   },
   "outputs": [],
   "source": []
  }
 ],
 "metadata": {
  "kernelspec": {
   "display_name": "Python 3",
   "language": "python",
   "name": "python3"
  },
  "language_info": {
   "codemirror_mode": {
    "name": "ipython",
    "version": 3
   },
   "file_extension": ".py",
   "mimetype": "text/x-python",
   "name": "python",
   "nbconvert_exporter": "python",
   "pygments_lexer": "ipython3",
   "version": "3.4.3"
  }
 },
 "nbformat": 4,
 "nbformat_minor": 0
}
