{
 "cells": [
  {
   "cell_type": "markdown",
   "metadata": {
    "collapsed": true
   },
   "source": [
    "### 3.1 일반적인 매핑형"
   ]
  },
  {
   "cell_type": "code",
   "execution_count": 2,
   "metadata": {
    "collapsed": false
   },
   "outputs": [
    {
     "data": {
      "text/plain": [
       "True"
      ]
     },
     "execution_count": 2,
     "metadata": {},
     "output_type": "execute_result"
    }
   ],
   "source": [
    "my_dict = {}\n",
    "import collections\n",
    "isinstance (my_dict, collections.abc.Mapping)"
   ]
  },
  {
   "cell_type": "code",
   "execution_count": 11,
   "metadata": {
    "collapsed": false
   },
   "outputs": [
    {
     "name": "stdout",
     "output_type": "stream",
     "text": [
      "8027212646858338501\n",
      "-4118419923444501110\n"
     ]
    }
   ],
   "source": [
    "tt = (1,2,(30, 40))\n",
    "print (hash(tt))\n",
    "t1 = (1,2,[30, 40])\n",
    "#print (hash(t1)) # 불변 내장객체만 hash 가능하다.\n",
    "tf = (1,2,frozenset([30,40]))\n",
    "print (hash(tf))"
   ]
  },
  {
   "cell_type": "code",
   "execution_count": 12,
   "metadata": {
    "collapsed": false
   },
   "outputs": [
    {
     "name": "stdout",
     "output_type": "stream",
     "text": [
      "True\n"
     ]
    }
   ],
   "source": [
    "a = dict(one=1, two=2, three=3)\n",
    "b = {'one':1, 'two':2, 'three':3}\n",
    "c = dict(zip(['one','two','three',], [1,2,3]))\n",
    "d = dict([('two',2), ('one',1), ('three',3)])\n",
    "e = dict({'three':3, 'one':1, 'two':2})\n",
    "print (a==b==c==d==e)"
   ]
  },
  {
   "cell_type": "markdown",
   "metadata": {},
   "source": [
    "### 3.2 지능형 딕셔너리"
   ]
  },
  {
   "cell_type": "code",
   "execution_count": 19,
   "metadata": {
    "collapsed": false
   },
   "outputs": [
    {
     "name": "stdout",
     "output_type": "stream",
     "text": [
      "{'Parkistan': 92, 'Bangladesh': 880, 'United States': 1, 'Indonesia': 62, 'Russia': 7, 'Nigeria': 234, 'India': 91, 'Brazil': 55, 'Japan': 81, 'China': 86}\n"
     ]
    },
    {
     "data": {
      "text/plain": [
       "{1: 'UNITED STATES', 7: 'RUSSIA', 55: 'BRAZIL', 62: 'INDONESIA'}"
      ]
     },
     "execution_count": 19,
     "metadata": {},
     "output_type": "execute_result"
    }
   ],
   "source": [
    "DIAL_CODES = [\n",
    "    (86, \"China\"),\n",
    "    (91, \"India\"),\n",
    "    (1, \"United States\"),\n",
    "    (62, \"Indonesia\"),\n",
    "    (55, \"Brazil\"),\n",
    "    (92, \"Parkistan\"),\n",
    "    (880, \"Bangladesh\"),\n",
    "    (234, \"Nigeria\"),\n",
    "    (7, \"Russia\"),\n",
    "    (81, \"Japan\"),\n",
    "]\n",
    "country_code = {country: code for code, country in DIAL_CODES}\n",
    "print (country_code)\n",
    "{code : country.upper() for country, code in country_code.items() if code <66 }\n"
   ]
  },
  {
   "cell_type": "markdown",
   "metadata": {},
   "source": [
    "### 3.3 공통적인 매핑 메서드\n",
    "#### 3.3.1 존재하지 않는 키를 setdefault()로 처리하기  "
   ]
  },
  {
   "cell_type": "code",
   "execution_count": 24,
   "metadata": {
    "collapsed": false
   },
   "outputs": [
    {
     "name": "stdout",
     "output_type": "stream",
     "text": [
      "a [(19, 48), (20, 53)]\n",
      "Although [(11, 1), (16, 1), (18, 1)]\n",
      "ambiguity [(14, 16)]\n",
      "and [(15, 23)]\n",
      "are [(21, 12)]\n",
      "aren [(10, 15)]\n",
      "at [(16, 38)]\n",
      "bad [(19, 50)]\n",
      "be [(15, 14), (16, 27), (20, 50)]\n",
      "beats [(11, 23)]\n",
      "Beautiful [(3, 1)]\n",
      "better [(3, 14), (4, 13), (5, 11), (6, 12), (7, 9), (8, 11), (17, 8), (18, 25)]\n",
      "break [(10, 40)]\n",
      "by [(1, 20)]\n",
      "cases [(10, 9)]\n",
      "complex [(5, 23)]\n",
      "Complex [(6, 1)]\n",
      "complicated [(6, 24)]\n",
      "counts [(9, 13)]\n",
      "dense [(8, 23)]\n",
      "do [(15, 64), (21, 48)]\n",
      "Dutch [(16, 61)]\n",
      "easy [(20, 26)]\n",
      "enough [(10, 30)]\n",
      "Errors [(12, 1)]\n",
      "explain [(19, 34), (20, 34)]\n",
      "Explicit [(4, 1)]\n",
      "explicitly [(13, 8)]\n",
      "face [(14, 8)]\n",
      "first [(16, 41)]\n",
      "Flat [(7, 1)]\n",
      "good [(20, 55)]\n",
      "great [(21, 28)]\n",
      "guess [(14, 52)]\n",
      "hard [(19, 26)]\n",
      "honking [(21, 20)]\n",
      "idea [(19, 54), (20, 60), (21, 34)]\n",
      "If [(19, 1), (20, 1)]\n",
      "implementation [(19, 8), (20, 8)]\n",
      "implicit [(4, 25)]\n",
      "In [(14, 1)]\n",
      "is [(3, 11), (4, 10), (5, 8), (6, 9), (7, 6), (8, 8), (17, 5), (18, 16), (19, 23), (20, 23)]\n",
      "it [(15, 67), (19, 43), (20, 43)]\n",
      "let [(21, 42)]\n",
      "may [(16, 19), (20, 46)]\n",
      "more [(21, 51)]\n",
      "Namespaces [(21, 1)]\n",
      "nested [(7, 21)]\n",
      "never [(12, 15), (17, 20), (18, 10)]\n",
      "not [(16, 23)]\n",
      "now [(18, 45)]\n",
      "Now [(17, 1)]\n",
      "obvious [(15, 49), (16, 30)]\n",
      "of [(1, 9), (14, 13), (21, 56)]\n",
      "often [(18, 19)]\n",
      "one [(15, 17), (15, 43), (21, 16)]\n",
      "only [(15, 38)]\n",
      "pass [(12, 21)]\n",
      "Peters [(1, 27)]\n",
      "practicality [(11, 10)]\n",
      "preferably [(15, 27)]\n",
      "purity [(11, 29)]\n",
      "Python [(1, 12)]\n",
      "re [(16, 58)]\n",
      "Readability [(9, 1)]\n",
      "refuse [(14, 27)]\n",
      "right [(18, 38)]\n",
      "rules [(10, 50)]\n",
      "s [(19, 46), (21, 46)]\n",
      "should [(12, 8), (15, 7)]\n",
      "silenced [(13, 19)]\n",
      "silently [(12, 26)]\n",
      "Simple [(5, 1)]\n",
      "Sparse [(8, 1)]\n",
      "Special [(10, 1)]\n",
      "special [(10, 22)]\n",
      "t [(10, 20)]\n",
      "temptation [(14, 38)]\n",
      "than [(3, 21), (4, 20), (5, 18), (6, 19), (7, 16), (8, 18), (17, 15), (18, 32)]\n",
      "that [(16, 10)]\n",
      "the [(10, 46), (14, 4), (14, 34), (19, 4), (20, 4)]\n",
      "The [(1, 1)]\n",
      "There [(15, 1)]\n",
      "those [(21, 59)]\n",
      "Tim [(1, 23)]\n",
      "to [(10, 37), (14, 49), (15, 61), (19, 31), (20, 31)]\n",
      "ugly [(3, 26)]\n",
      "unless [(16, 47)]\n",
      "Unless [(13, 1)]\n",
      "way [(15, 57), (16, 15)]\n",
      "you [(16, 54)]\n",
      "Zen [(1, 5)]\n"
     ]
    }
   ],
   "source": [
    "import sys\n",
    "import re\n",
    "\n",
    "WORD_RE = re.compile(r'\\w+')\n",
    "index = {}\n",
    "\n",
    "path ='/home/sbpark/project/tmp/FluentPython/zen.txt'\n",
    "with open(path, encoding='utf-8') as fp:\n",
    "    for line_no, line in enumerate(fp, 1):\n",
    "        for match in WORD_RE.finditer(line):\n",
    "            word = match.group()\n",
    "            column_no = match.start()+1\n",
    "            location = (line_no, column_no)\n",
    "            # 보기 좋은 코드는 아니지만, 설명하기 위해 이렇게 구현했다.\n",
    "            occurrences = index.get(word, [])\n",
    "            occurrences.append(location)\n",
    "            index[word] = occurrences\n",
    "\n",
    "# 알파벳순으로 출력한다.\n",
    "for word in sorted (index, key = str.upper):\n",
    "    print(word, index[word])"
   ]
  },
  {
   "cell_type": "code",
   "execution_count": 25,
   "metadata": {
    "collapsed": false
   },
   "outputs": [
    {
     "name": "stdout",
     "output_type": "stream",
     "text": [
      "The Zen of Python, by Tim Peters\n",
      "\n",
      "\n",
      "\n",
      "Beautiful is better than ugly.\n",
      "\n",
      "Explicit is better than implicit.\n",
      "\n",
      "Simple is better than complex.\n",
      "\n",
      "Complex is better than complicated.\n",
      "\n",
      "Flat is better than nested.\n",
      "\n",
      "Sparse is better than dense.\n",
      "\n",
      "Readability counts.\n",
      "\n",
      "Special cases aren't special enough to break the rules.\n",
      "\n",
      "Although practicality beats purity.\n",
      "\n",
      "Errors should never pass silently.\n",
      "\n",
      "Unless explicitly silenced.\n",
      "\n",
      "In the face of ambiguity, refuse the temptation to guess.\n",
      "\n",
      "There should be one-- and preferably only one --obvious way to do it.\n",
      "\n",
      "Although that way may not be obvious at first unless you're Dutch.\n",
      "\n",
      "Now is better than never.\n",
      "\n",
      "Although never is often better than *right* now.\n",
      "\n",
      "If the implementation is hard to explain, it's a bad idea.\n",
      "\n",
      "If the implementation is easy to explain, it may be a good idea.\n",
      "\n",
      "Namespaces are one honking great idea -- let's do more of those!\n",
      "\n"
     ]
    }
   ],
   "source": [
    "path ='/home/sbpark/project/tmp/FluentPython/zen.txt'\n",
    "with open(path, encoding='utf-8') as fp:\n",
    "    for  line in fp:\n",
    "        print (line)"
   ]
  },
  {
   "cell_type": "code",
   "execution_count": null,
   "metadata": {
    "collapsed": true
   },
   "outputs": [],
   "source": [
    "   "
   ]
  }
 ],
 "metadata": {
  "kernelspec": {
   "display_name": "Python 3",
   "language": "python",
   "name": "python3"
  },
  "language_info": {
   "codemirror_mode": {
    "name": "ipython",
    "version": 3
   },
   "file_extension": ".py",
   "mimetype": "text/x-python",
   "name": "python",
   "nbconvert_exporter": "python",
   "pygments_lexer": "ipython3",
   "version": "3.4.3"
  }
 },
 "nbformat": 4,
 "nbformat_minor": 0
}
