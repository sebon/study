{
 "cells": [
  {
   "cell_type": "markdown",
   "metadata": {},
   "source": [
    "#### 일급 객체\n",
    "- 런타임(runtime)에 생성할 수 있다.\n",
    "- 데이터의 구조체의 변수나 요소에 할당할 수 있다.\n",
    "- 함수 인수로 잔달할 수 있다.\n",
    "- 함수 결과로 반환할 수 있다.\n"
   ]
  },
  {
   "cell_type": "markdown",
   "metadata": {},
   "source": [
    "### 5.1 함수를 객체처럼 다루기"
   ]
  },
  {
   "cell_type": "code",
   "execution_count": 11,
   "metadata": {
    "collapsed": false
   },
   "outputs": [
    {
     "name": "stdout",
     "output_type": "stream",
     "text": [
      "1405006117752879898543142606244511569936384000000000\n",
      " returns n! \n",
      "<class 'function'>\n"
     ]
    }
   ],
   "source": [
    "def factorial(n):\n",
    "    ''' returns n! '''\n",
    "    return 1 if n < 2 else n * factorial(n-1)\n",
    "print (factorial(42))\n",
    "print (factorial.__doc__)\n",
    "print (type(factorial))"
   ]
  },
  {
   "cell_type": "code",
   "execution_count": 12,
   "metadata": {
    "collapsed": false
   },
   "outputs": [
    {
     "name": "stdout",
     "output_type": "stream",
     "text": [
      "<function factorial at 0x7fee859490d0>\n",
      "120\n",
      "[1, 1, 2, 6, 24, 120, 720, 5040, 40320, 362880, 3628800]\n"
     ]
    }
   ],
   "source": [
    "fact = factorial\n",
    "print (fact)\n",
    "print (fact(5))\n",
    "map(factorial, range(11))\n",
    "print (list(map(factorial, range(11))))\n"
   ]
  },
  {
   "cell_type": "markdown",
   "metadata": {},
   "source": [
    "### 5.2 고위 함수\n",
    "- 함수를 인수로 받거나, 함수를 결과로 반환하는 함수"
   ]
  },
  {
   "cell_type": "code",
   "execution_count": 31,
   "metadata": {
    "collapsed": false
   },
   "outputs": [
    {
     "name": "stdout",
     "output_type": "stream",
     "text": [
      "gnitset\n",
      "['banana', 'apple', 'fig', 'raspberry', 'strawberry', 'cherry']\n"
     ]
    }
   ],
   "source": [
    "fruits = ['strawberry', 'fig', 'apple', 'cherry', 'raspberry', 'banana']\n",
    "\n",
    "\n",
    "def reverse(word):\n",
    "    return word[::-1]\n",
    "print (reverse(\"testing\"))\n",
    "print (sorted(fruits, key=reverse))"
   ]
  },
  {
   "cell_type": "markdown",
   "metadata": {},
   "source": [
    "#### 5.2.1 map(), filter(), reduce()의 대안"
   ]
  },
  {
   "cell_type": "code",
   "execution_count": 32,
   "metadata": {
    "collapsed": false
   },
   "outputs": [
    {
     "name": "stdout",
     "output_type": "stream",
     "text": [
      "[1, 1, 2, 6, 24, 120]\n",
      "[1, 1, 2, 6, 24, 120]\n",
      "[1, 6, 120]\n",
      "[1, 6, 120]\n"
     ]
    }
   ],
   "source": [
    "print (list(map(fact, range(6))))\n",
    "print ([fact(n) for n in range(6)])\n",
    "\n",
    "print (list(map(factorial, filter (lambda n: n%2, range(6)))))\n",
    "print ([factorial(n) for n in range(6) if n%2])"
   ]
  },
  {
   "cell_type": "code",
   "execution_count": 33,
   "metadata": {
    "collapsed": false
   },
   "outputs": [
    {
     "name": "stdout",
     "output_type": "stream",
     "text": [
      "4950\n",
      "4950\n"
     ]
    }
   ],
   "source": [
    "from functools import reduce\n",
    "from operator import add\n",
    "print (reduce(add, range(100)))\n",
    "print (sum(range(100)))"
   ]
  },
  {
   "cell_type": "markdown",
   "metadata": {},
   "source": [
    "### 5.3 익명 함수"
   ]
  },
  {
   "cell_type": "code",
   "execution_count": 34,
   "metadata": {
    "collapsed": false
   },
   "outputs": [
    {
     "data": {
      "text/plain": [
       "['banana', 'apple', 'fig', 'raspberry', 'strawberry', 'cherry']"
      ]
     },
     "execution_count": 34,
     "metadata": {},
     "output_type": "execute_result"
    }
   ],
   "source": [
    "fruits = ['strawberry', 'fig', 'apple', 'cherry', 'raspberry', 'banana']\n",
    "sorted (fruits, key=lambda word: word[::-1])"
   ]
  },
  {
   "cell_type": "markdown",
   "metadata": {},
   "source": [
    "### 5.4 일곱 가지 맛의 콜러블 객체\n",
    "- 사용자 정의 함수\n",
    "    - def 문이나 람다 표현식으로 생성한다.\n",
    "- 내장 함수\n",
    "    - len() 이나 time.strftime()처럼 C언어로 구현된 함수 (Cython의 경우)\n",
    "- 내장 메서드\n",
    "    - dict.get()처럼 C언어로 구현된 메서드\n",
    "- 메서드\n",
    "    - 클래스 본체에 정의된 함수\n",
    "- 클래스\n",
    "    - 호출될 때 클래스는 자신의 __new__()메서드를 실행해서 객체를 생성하고,  __init__()으로 초기화한 후, 최종적으로 호출자에 객체를 반환한다.\n",
    "- 클래스 객체\n",
    "    - 클래스가 __call__()메서드를 구현하면 이 클래스의 객체는 함수로 호출될 수 있다.\n",
    "- 제너레이터 함수\n",
    "    - yield 키워드를 사용하는 함수나 메서드, 이 함수가 호출되면 제너레이터 객체를 반환한다."
   ]
  },
  {
   "cell_type": "code",
   "execution_count": 36,
   "metadata": {
    "collapsed": false
   },
   "outputs": [
    {
     "name": "stdout",
     "output_type": "stream",
     "text": [
      "[True, True, False]\n"
     ]
    }
   ],
   "source": [
    "print ([callable(obj) for obj in (abs, str, 13)])"
   ]
  },
  {
   "cell_type": "code",
   "execution_count": null,
   "metadata": {
    "collapsed": true
   },
   "outputs": [],
   "source": []
  }
 ],
 "metadata": {
  "kernelspec": {
   "display_name": "Python 3",
   "language": "python",
   "name": "python3"
  },
  "language_info": {
   "codemirror_mode": {
    "name": "ipython",
    "version": 3
   },
   "file_extension": ".py",
   "mimetype": "text/x-python",
   "name": "python",
   "nbconvert_exporter": "python",
   "pygments_lexer": "ipython3",
   "version": "3.4.3"
  }
 },
 "nbformat": 4,
 "nbformat_minor": 0
}
