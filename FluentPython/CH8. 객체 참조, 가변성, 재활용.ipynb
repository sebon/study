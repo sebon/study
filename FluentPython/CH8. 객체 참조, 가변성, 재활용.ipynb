{
 "cells": [
  {
   "cell_type": "markdown",
   "metadata": {},
   "source": [
    "### 8.1 변수는 상자가 아니다.\n",
    "- 변수는 포스트 잍이다."
   ]
  },
  {
   "cell_type": "code",
   "execution_count": 7,
   "metadata": {
    "collapsed": false
   },
   "outputs": [
    {
     "name": "stdout",
     "output_type": "stream",
     "text": [
      "[1, 2, 3, 4]\n"
     ]
    }
   ],
   "source": [
    "a = [1,2,3]\n",
    "b=a\n",
    "a.append(4)\n",
    "print (b)"
   ]
  },
  {
   "cell_type": "code",
   "execution_count": 12,
   "metadata": {
    "collapsed": false
   },
   "outputs": [
    {
     "name": "stdout",
     "output_type": "stream",
     "text": [
      "Gizmo id: 139816894072592\n"
     ]
    },
    {
     "data": {
      "text/plain": [
       "['Gizmo',\n",
       " 'In',\n",
       " 'Out',\n",
       " '_',\n",
       " '_6',\n",
       " '_8',\n",
       " '__',\n",
       " '___',\n",
       " '__builtin__',\n",
       " '__builtins__',\n",
       " '__doc__',\n",
       " '__loader__',\n",
       " '__name__',\n",
       " '__package__',\n",
       " '__spec__',\n",
       " '_dh',\n",
       " '_i',\n",
       " '_i1',\n",
       " '_i10',\n",
       " '_i11',\n",
       " '_i12',\n",
       " '_i2',\n",
       " '_i3',\n",
       " '_i4',\n",
       " '_i5',\n",
       " '_i6',\n",
       " '_i7',\n",
       " '_i8',\n",
       " '_i9',\n",
       " '_ih',\n",
       " '_ii',\n",
       " '_iii',\n",
       " '_oh',\n",
       " '_sh',\n",
       " 'a',\n",
       " 'b',\n",
       " 'charles',\n",
       " 'exit',\n",
       " 'get_ipython',\n",
       " 'lewis',\n",
       " 'quit',\n",
       " 'x']"
      ]
     },
     "execution_count": 12,
     "metadata": {},
     "output_type": "execute_result"
    }
   ],
   "source": [
    "class Gizmo:\n",
    "    def __init__(self):\n",
    "        print ('Gizmo id: %d' %id(self))\n",
    "x = Gizmo()\n",
    "#y = Gizmo() * 10\n",
    "dir()"
   ]
  },
  {
   "cell_type": "markdown",
   "metadata": {},
   "source": [
    "### 8.2 정체성, 동질성, 별명"
   ]
  },
  {
   "cell_type": "code",
   "execution_count": 15,
   "metadata": {
    "collapsed": false
   },
   "outputs": [
    {
     "name": "stdout",
     "output_type": "stream",
     "text": [
      "True\n",
      "139816893437128 139816893437128\n",
      "{'balance': 950, 'name': 'Charles L. Dodgson', 'born': 1832}\n"
     ]
    }
   ],
   "source": [
    "charles = { 'name' : 'Charles L. Dodgson', 'born' : 1832}\n",
    "lewis = charles\n",
    "print (lewis is charles)\n",
    "print (id(charles), id(lewis))\n",
    "lewis['balance'] = 950\n",
    "print (charles)"
   ]
  },
  {
   "cell_type": "code",
   "execution_count": 16,
   "metadata": {
    "collapsed": false
   },
   "outputs": [
    {
     "name": "stdout",
     "output_type": "stream",
     "text": [
      "False\n",
      "True\n"
     ]
    }
   ],
   "source": [
    "alex = { 'name' : 'Charles L. Dodgson', 'born' : 1832}\n",
    "print (alex == charles)\n",
    "print (alex is not charles)"
   ]
  },
  {
   "cell_type": "markdown",
   "metadata": {},
   "source": [
    "#### 8.2.1 == 연산자와  is 연산자 간의 선택"
   ]
  },
  {
   "cell_type": "markdown",
   "metadata": {},
   "source": [
    "#### 8.2.2 튜플의 상대적 불변성"
   ]
  },
  {
   "cell_type": "code",
   "execution_count": 25,
   "metadata": {
    "collapsed": false
   },
   "outputs": [
    {
     "name": "stdout",
     "output_type": "stream",
     "text": [
      "True\n",
      "False\n",
      "139816893587208\n",
      "(1, 2, [30, 40, 99])\n",
      "139816893587208\n",
      "False\n"
     ]
    }
   ],
   "source": [
    "t1 = (1,2,[30,40])\n",
    "t2 = (1,2,[30,40])\n",
    "print (t1 == t2)\n",
    "print (t1 is t2)\n",
    "print (id(t1[-1]))\n",
    "t1[-1].append(99)\n",
    "print (t1)\n",
    "print (id(t1[-1]))\n",
    "print (t1 == t2)"
   ]
  },
  {
   "cell_type": "code",
   "execution_count": 26,
   "metadata": {
    "collapsed": false
   },
   "outputs": [
    {
     "name": "stdout",
     "output_type": "stream",
     "text": [
      "False\n"
     ]
    }
   ],
   "source": [
    "print (t1 == t2)"
   ]
  },
  {
   "cell_type": "markdown",
   "metadata": {},
   "source": [
    "#### 8.3 기본 복사는 얕은 복사"
   ]
  },
  {
   "cell_type": "code",
   "execution_count": 36,
   "metadata": {
    "collapsed": false
   },
   "outputs": [
    {
     "name": "stdout",
     "output_type": "stream",
     "text": [
      "[3, [55, 44], (7, 8, 9)]\n",
      "True\n",
      "False\n"
     ]
    }
   ],
   "source": [
    "l1 = [3,[55,44], (7,8,9)]\n",
    "l2 = list(l1)\n",
    "print (l2)\n",
    "print (l2 == l1)\n",
    "print (l2 is l1)"
   ]
  },
  {
   "cell_type": "code",
   "execution_count": 38,
   "metadata": {
    "collapsed": false
   },
   "outputs": [
    {
     "name": "stdout",
     "output_type": "stream",
     "text": [
      "l1 :  [3, [66, 44], (7, 8, 9), 100]\n",
      "l2 :  [3, [66, 44], (7, 8, 9)]\n",
      "l1 :  [3, [66, 44, 33, 22], (7, 8, 9), 100]\n",
      "l2 :  [3, [66, 44, 33, 22], (7, 8, 9, 10, 11)]\n"
     ]
    }
   ],
   "source": [
    "l1 = [3, [66,55,44], (7,8,9)]\n",
    "l2 = list(l1)\n",
    "l1.append(100)\n",
    "l1[1].remove(55)\n",
    "print (\"l1 : \", l1)\n",
    "print (\"l2 : \", l2)\n",
    "l2[1] += [33,22]\n",
    "l2[2] += (10,11)\n",
    "print (\"l1 : \", l1)\n",
    "print (\"l2 : \", l2)"
   ]
  },
  {
   "cell_type": "code",
   "execution_count": 40,
   "metadata": {
    "collapsed": false
   },
   "outputs": [
    {
     "name": "stdout",
     "output_type": "stream",
     "text": [
      "l1 :  [3, (7, 8, 9), [66, 44], 100]\n",
      "l2 :  [3, (7, 8, 9), [66, 44]]\n",
      "l1 :  [3, (7, 8, 9), [66, 44, 33, 22], 100]\n",
      "l2 :  [3, (7, 8, 9, 10, 11), [66, 44, 33, 22]]\n"
     ]
    }
   ],
   "source": [
    "l1 = [3, (7,8,9), [66,55,44]]\n",
    "l2 = list(l1)\n",
    "l1.append(100)\n",
    "l1[2].remove(55)\n",
    "print (\"l1 : \", l1)\n",
    "print (\"l2 : \", l2)\n",
    "l2[2] += [33,22]\n",
    "l2[1] += (10,11)\n",
    "print (\"l1 : \", l1)\n",
    "print (\"l2 : \", l2)"
   ]
  },
  {
   "cell_type": "code",
   "execution_count": 41,
   "metadata": {
    "collapsed": true
   },
   "outputs": [],
   "source": [
    "class Bus:\n",
    "    def __init__(self, passengers=None):\n",
    "        if passengers is None:\n",
    "            self.passengers = []\n",
    "        else:\n",
    "            self.passengers = list(passengers)\n",
    "    def pick(self, name):\n",
    "        self.passengers.append(name)\n",
    "        \n",
    "    def drop(self, name):\n",
    "        self.passengers.remove(name)"
   ]
  },
  {
   "cell_type": "code",
   "execution_count": 45,
   "metadata": {
    "collapsed": false
   },
   "outputs": [
    {
     "name": "stdout",
     "output_type": "stream",
     "text": [
      "139816894073208 139816894073264 139816894072872\n",
      "['Alice', 'Claire', 'David']\n",
      "139816894073208 139816894073264 139816894072872\n",
      "['Alice', 'Bill', 'Claire', 'David']\n"
     ]
    }
   ],
   "source": [
    "import copy\n",
    "bus1 = Bus(['Alice', 'Bill', 'Claire', 'David'])\n",
    "bus2 = copy.copy(bus1)\n",
    "bus3 =  copy.deepcopy(bus1)\n",
    "print (id(bus1), id(bus2), id(bus3))\n",
    "bus1.drop('Bill')\n",
    "print (bus2.passengers)\n",
    "print (id(bus1), id(bus2), id(bus3))\n",
    "print (bus3.passengers)"
   ]
  },
  {
   "cell_type": "code",
   "execution_count": 49,
   "metadata": {
    "collapsed": false
   },
   "outputs": [
    {
     "name": "stdout",
     "output_type": "stream",
     "text": [
      "[10, 20, [[...], 30]]\n",
      "[10, 20, [[...], 30]]\n"
     ]
    }
   ],
   "source": [
    "a = [10,20]\n",
    "b = [a, 30]\n",
    "a.append(b)\n",
    "print (a)\n",
    "\n",
    "from copy import deepcopy\n",
    "c = deepcopy(a)\n",
    "print (c)"
   ]
  },
  {
   "cell_type": "code",
   "execution_count": null,
   "metadata": {
    "collapsed": true
   },
   "outputs": [],
   "source": [
    "\n"
   ]
  }
 ],
 "metadata": {
  "kernelspec": {
   "display_name": "Python 3",
   "language": "python",
   "name": "python3"
  },
  "language_info": {
   "codemirror_mode": {
    "name": "ipython",
    "version": 3
   },
   "file_extension": ".py",
   "mimetype": "text/x-python",
   "name": "python",
   "nbconvert_exporter": "python",
   "pygments_lexer": "ipython3",
   "version": "3.4.3"
  }
 },
 "nbformat": 4,
 "nbformat_minor": 0
}
