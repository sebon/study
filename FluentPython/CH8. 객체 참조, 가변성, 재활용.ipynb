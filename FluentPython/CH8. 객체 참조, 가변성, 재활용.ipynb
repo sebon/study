{
 "cells": [
  {
   "cell_type": "markdown",
   "metadata": {},
   "source": [
    "### 8.1 변수는 상자가 아니다.\n",
    "- 변수는 포스트 잍이다."
   ]
  },
  {
   "cell_type": "code",
   "execution_count": 7,
   "metadata": {
    "collapsed": false
   },
   "outputs": [
    {
     "name": "stdout",
     "output_type": "stream",
     "text": [
      "[1, 2, 3, 4]\n"
     ]
    }
   ],
   "source": [
    "a = [1,2,3]\n",
    "b=a\n",
    "a.append(4)\n",
    "print (b)"
   ]
  },
  {
   "cell_type": "code",
   "execution_count": 12,
   "metadata": {
    "collapsed": false
   },
   "outputs": [
    {
     "name": "stdout",
     "output_type": "stream",
     "text": [
      "Gizmo id: 139816894072592\n"
     ]
    },
    {
     "data": {
      "text/plain": [
       "['Gizmo',\n",
       " 'In',\n",
       " 'Out',\n",
       " '_',\n",
       " '_6',\n",
       " '_8',\n",
       " '__',\n",
       " '___',\n",
       " '__builtin__',\n",
       " '__builtins__',\n",
       " '__doc__',\n",
       " '__loader__',\n",
       " '__name__',\n",
       " '__package__',\n",
       " '__spec__',\n",
       " '_dh',\n",
       " '_i',\n",
       " '_i1',\n",
       " '_i10',\n",
       " '_i11',\n",
       " '_i12',\n",
       " '_i2',\n",
       " '_i3',\n",
       " '_i4',\n",
       " '_i5',\n",
       " '_i6',\n",
       " '_i7',\n",
       " '_i8',\n",
       " '_i9',\n",
       " '_ih',\n",
       " '_ii',\n",
       " '_iii',\n",
       " '_oh',\n",
       " '_sh',\n",
       " 'a',\n",
       " 'b',\n",
       " 'charles',\n",
       " 'exit',\n",
       " 'get_ipython',\n",
       " 'lewis',\n",
       " 'quit',\n",
       " 'x']"
      ]
     },
     "execution_count": 12,
     "metadata": {},
     "output_type": "execute_result"
    }
   ],
   "source": [
    "class Gizmo:\n",
    "    def __init__(self):\n",
    "        print ('Gizmo id: %d' %id(self))\n",
    "x = Gizmo()\n",
    "#y = Gizmo() * 10\n",
    "dir()"
   ]
  },
  {
   "cell_type": "markdown",
   "metadata": {},
   "source": [
    "### 8.2 정체성, 동질성, 별명"
   ]
  },
  {
   "cell_type": "code",
   "execution_count": 15,
   "metadata": {
    "collapsed": false
   },
   "outputs": [
    {
     "name": "stdout",
     "output_type": "stream",
     "text": [
      "True\n",
      "139816893437128 139816893437128\n",
      "{'balance': 950, 'name': 'Charles L. Dodgson', 'born': 1832}\n"
     ]
    }
   ],
   "source": [
    "charles = { 'name' : 'Charles L. Dodgson', 'born' : 1832}\n",
    "lewis = charles\n",
    "print (lewis is charles)\n",
    "print (id(charles), id(lewis))\n",
    "lewis['balance'] = 950\n",
    "print (charles)"
   ]
  },
  {
   "cell_type": "code",
   "execution_count": 16,
   "metadata": {
    "collapsed": false
   },
   "outputs": [
    {
     "name": "stdout",
     "output_type": "stream",
     "text": [
      "False\n",
      "True\n"
     ]
    }
   ],
   "source": [
    "alex = { 'name' : 'Charles L. Dodgson', 'born' : 1832}\n",
    "print (alex == charles)\n",
    "print (alex is not charles)"
   ]
  },
  {
   "cell_type": "markdown",
   "metadata": {},
   "source": [
    "#### 8.2.1 == 연산자와  is 연산자 간의 선택"
   ]
  },
  {
   "cell_type": "markdown",
   "metadata": {},
   "source": [
    "#### 8.2.2 튜플의 상대적 불변성"
   ]
  },
  {
   "cell_type": "code",
   "execution_count": 25,
   "metadata": {
    "collapsed": false
   },
   "outputs": [
    {
     "name": "stdout",
     "output_type": "stream",
     "text": [
      "True\n",
      "False\n",
      "139816893587208\n",
      "(1, 2, [30, 40, 99])\n",
      "139816893587208\n",
      "False\n"
     ]
    }
   ],
   "source": [
    "t1 = (1,2,[30,40])\n",
    "t2 = (1,2,[30,40])\n",
    "print (t1 == t2)\n",
    "print (t1 is t2)\n",
    "print (id(t1[-1]))\n",
    "t1[-1].append(99)\n",
    "print (t1)\n",
    "print (id(t1[-1]))\n",
    "print (t1 == t2)"
   ]
  },
  {
   "cell_type": "code",
   "execution_count": 26,
   "metadata": {
    "collapsed": false
   },
   "outputs": [
    {
     "name": "stdout",
     "output_type": "stream",
     "text": [
      "False\n"
     ]
    }
   ],
   "source": [
    "print (t1 == t2)"
   ]
  },
  {
   "cell_type": "markdown",
   "metadata": {},
   "source": [
    "#### 8.3 기본 복사는 얕은 복사"
   ]
  },
  {
   "cell_type": "code",
   "execution_count": 1,
   "metadata": {
    "collapsed": false
   },
   "outputs": [
    {
     "name": "stdout",
     "output_type": "stream",
     "text": [
      "[3, [55, 44], (7, 8, 9)]\n",
      "True\n",
      "False\n"
     ]
    }
   ],
   "source": [
    "l1 = [3,[55,44], (7,8,9)]\n",
    "l2 = list(l1)\n",
    "print (l2)\n",
    "print (l2 == l1)\n",
    "print (l2 is l1)"
   ]
  },
  {
   "cell_type": "code",
   "execution_count": 2,
   "metadata": {
    "collapsed": false
   },
   "outputs": [
    {
     "name": "stdout",
     "output_type": "stream",
     "text": [
      "l1 :  [3, [66, 44], (7, 8, 9), 100]\n",
      "l2 :  [3, [66, 44], (7, 8, 9)]\n",
      "l1 :  [3, [66, 44, 33, 22], (7, 8, 9), 100]\n",
      "l2 :  [3, [66, 44, 33, 22], (7, 8, 9, 10, 11)]\n"
     ]
    }
   ],
   "source": [
    "l1 = [3, [66,55,44], (7,8,9)]\n",
    "l2 = list(l1)\n",
    "l1.append(100)\n",
    "l1[1].remove(55)\n",
    "print (\"l1 : \", l1)\n",
    "print (\"l2 : \", l2)\n",
    "l2[1] += [33,22]\n",
    "l2[2] += (10,11)\n",
    "print (\"l1 : \", l1)\n",
    "print (\"l2 : \", l2)"
   ]
  },
  {
   "cell_type": "code",
   "execution_count": 3,
   "metadata": {
    "collapsed": false
   },
   "outputs": [
    {
     "name": "stdout",
     "output_type": "stream",
     "text": [
      "l1 :  [3, (7, 8, 9), [66, 44], 100]\n",
      "l2 :  [3, (7, 8, 9), [66, 44]]\n",
      "l1 :  [3, (7, 8, 9), [66, 44, 33, 22], 100]\n",
      "l2 :  [3, (7, 8, 9, 10, 11), [66, 44, 33, 22]]\n"
     ]
    }
   ],
   "source": [
    "l1 = [3, (7,8,9), [66,55,44]]\n",
    "l2 = list(l1)\n",
    "l1.append(100)\n",
    "l1[2].remove(55)\n",
    "print (\"l1 : \", l1)\n",
    "print (\"l2 : \", l2)\n",
    "l2[2] += [33,22]\n",
    "l2[1] += (10,11)\n",
    "print (\"l1 : \", l1)\n",
    "print (\"l2 : \", l2)"
   ]
  },
  {
   "cell_type": "code",
   "execution_count": 4,
   "metadata": {
    "collapsed": true
   },
   "outputs": [],
   "source": [
    "class Bus:\n",
    "    def __init__(self, passengers=None):\n",
    "        if passengers is None:\n",
    "            self.passengers = []\n",
    "        else:\n",
    "            self.passengers = list(passengers)\n",
    "    def pick(self, name):\n",
    "        self.passengers.append(name)\n",
    "        \n",
    "    def drop(self, name):\n",
    "        self.passengers.remove(name)"
   ]
  },
  {
   "cell_type": "code",
   "execution_count": 5,
   "metadata": {
    "collapsed": false
   },
   "outputs": [
    {
     "name": "stdout",
     "output_type": "stream",
     "text": [
      "140369799733200 140369799733088 140369799730848\n",
      "['Alice', 'Claire', 'David']\n",
      "140369799733200 140369799733088 140369799730848\n",
      "['Alice', 'Bill', 'Claire', 'David']\n"
     ]
    }
   ],
   "source": [
    "import copy\n",
    "bus1 = Bus(['Alice', 'Bill', 'Claire', 'David'])\n",
    "bus2 = copy.copy(bus1)\n",
    "bus3 =  copy.deepcopy(bus1)\n",
    "print (id(bus1), id(bus2), id(bus3))\n",
    "bus1.drop('Bill')\n",
    "print (bus2.passengers)\n",
    "print (id(bus1), id(bus2), id(bus3))\n",
    "print (bus3.passengers)"
   ]
  },
  {
   "cell_type": "code",
   "execution_count": 6,
   "metadata": {
    "collapsed": false
   },
   "outputs": [
    {
     "name": "stdout",
     "output_type": "stream",
     "text": [
      "[10, 20, [[...], 30]]\n",
      "[10, 20, [[...], 30]]\n"
     ]
    }
   ],
   "source": [
    "a = [10,20]\n",
    "b = [a, 30]\n",
    "a.append(b)\n",
    "print (a)\n",
    "\n",
    "from copy import deepcopy\n",
    "c = deepcopy(a)\n",
    "print (c)"
   ]
  },
  {
   "cell_type": "markdown",
   "metadata": {
    "collapsed": true
   },
   "source": [
    "#### 8.4 참조로서의 함수 매개변수"
   ]
  },
  {
   "cell_type": "code",
   "execution_count": 1,
   "metadata": {
    "collapsed": false
   },
   "outputs": [
    {
     "name": "stdout",
     "output_type": "stream",
     "text": [
      "3\n",
      "1 2\n",
      "[1, 2, 3, 4]\n",
      "[1, 2, 3, 4] [3, 4]\n",
      "(10, 20, 30, 40)\n",
      "(10, 20) (30, 40)\n"
     ]
    }
   ],
   "source": [
    "def f(a, b):\n",
    "    a += b\n",
    "    return a\n",
    "\n",
    "x =1\n",
    "y =2\n",
    "print (f(x,y))\n",
    "print (x,y)\n",
    "a = [1,2]\n",
    "b = [3,4]\n",
    "print (f(a,b))\n",
    "print (a,b)\n",
    "t = (10, 20)\n",
    "u = (30, 40)\n",
    "print (f(t, u))\n",
    "print (t, u)"
   ]
  },
  {
   "cell_type": "markdown",
   "metadata": {},
   "source": [
    "#### 8.4.1 가변형을 매개변수 기본값으로 사용하기 :좋지 않은 생각"
   ]
  },
  {
   "cell_type": "code",
   "execution_count": 35,
   "metadata": {
    "collapsed": true
   },
   "outputs": [],
   "source": [
    "class HauntedBus:\n",
    "    \"\"\"유령 승객이 출몰하는 버스 모델\"\"\"\n",
    "    def __init__(self, passengers=[]):\n",
    "        self.passengers = passengers\n",
    "        \n",
    "    def pick(self, name):\n",
    "        self.passengers.append(name)\n",
    "        \n",
    "    def drop(self, name):\n",
    "        self.passengers.remove(name)"
   ]
  },
  {
   "cell_type": "code",
   "execution_count": 36,
   "metadata": {
    "collapsed": false
   },
   "outputs": [
    {
     "name": "stdout",
     "output_type": "stream",
     "text": [
      "['Alice', 'Bill']\n",
      "['Bill', 'Charlie']\n",
      "['Carrie']\n",
      "['Carrie']\n",
      "['Carrie', 'Dave']\n",
      "True\n",
      "['Bill', 'Charlie']\n"
     ]
    }
   ],
   "source": [
    "bus1 = HauntedBus(['Alice', 'Bill'])\n",
    "print (bus1.passengers)\n",
    "bus1.pick('Charlie')\n",
    "bus1.drop('Alice')\n",
    "print (bus1.passengers)\n",
    "\n",
    "bus2 = HauntedBus()\n",
    "bus2.pick('Carrie')\n",
    "print (bus2.passengers)\n",
    "\n",
    "bus3= HauntedBus()\n",
    "print (bus3.passengers)\n",
    "\n",
    "bus3.pick('Dave')\n",
    "print (bus2.passengers)\n",
    "print (bus2.passengers is bus3.passengers)\n",
    "print (bus1.passengers)"
   ]
  },
  {
   "cell_type": "code",
   "execution_count": 38,
   "metadata": {
    "collapsed": false
   },
   "outputs": [
    {
     "name": "stdout",
     "output_type": "stream",
     "text": [
      "['__annotations__', '__call__', '__class__', '__closure__', '__code__', '__defaults__', '__delattr__', '__dict__', '__dir__', '__doc__', '__eq__', '__format__', '__ge__', '__get__', '__getattribute__', '__globals__', '__gt__', '__hash__', '__init__', '__kwdefaults__', '__le__', '__lt__', '__module__', '__name__', '__ne__', '__new__', '__qualname__', '__reduce__', '__reduce_ex__', '__repr__', '__setattr__', '__sizeof__', '__str__', '__subclasshook__']\n",
      "(['Carrie', 'Dave'],)\n",
      "True\n"
     ]
    }
   ],
   "source": [
    "print (dir(HauntedBus.__init__))\n",
    "print (HauntedBus.__init__.__defaults__)\n",
    "print (HauntedBus.__init__.__defaults__[0] is bus2.passengers)"
   ]
  },
  {
   "cell_type": "markdown",
   "metadata": {},
   "source": [
    "#### 8.4.2 가변 매개변수에 대한 방어적 프로그래밍"
   ]
  },
  {
   "cell_type": "code",
   "execution_count": 49,
   "metadata": {
    "collapsed": true
   },
   "outputs": [],
   "source": [
    "class TwilightBus:\n",
    "    \"\"\"승객이 사라지게 만드는 버스 모델\"\"\"\n",
    "    def __init__(self, passengers=None):\n",
    "        if passengers is None:\n",
    "            self.passengers = []\n",
    "        else:\n",
    "            self.passengers = list(passengers)\n",
    "        \n",
    "    def pick(self, name):\n",
    "        self.passengers.append(name)\n",
    "    \n",
    "    def drop(self, name):\n",
    "        self.passengers.remove(name)"
   ]
  },
  {
   "cell_type": "code",
   "execution_count": 50,
   "metadata": {
    "collapsed": false
   },
   "outputs": [
    {
     "name": "stdout",
     "output_type": "stream",
     "text": [
      "['Sue', 'Tina', 'Maya', 'Diana', 'Pat']\n",
      "['Sue', 'Maya', 'Diana']\n"
     ]
    }
   ],
   "source": [
    "basketball_team = ['Sue', 'Tina', 'Maya', 'Diana', 'Pat']\n",
    "bus = TwilightBus(basketball_team)\n",
    "bus.drop('Tina')\n",
    "bus.drop('Pat')\n",
    "print (basketball_team)\n",
    "print (bus.passengers)"
   ]
  },
  {
   "cell_type": "markdown",
   "metadata": {},
   "source": [
    "### 8.5 del과 가비지 컬렉션"
   ]
  },
  {
   "cell_type": "code",
   "execution_count": 57,
   "metadata": {
    "collapsed": false
   },
   "outputs": [
    {
     "name": "stdout",
     "output_type": "stream",
     "text": [
      "True\n",
      "True\n",
      "Gone with the wind...\n",
      "False\n"
     ]
    }
   ],
   "source": [
    "import weakref\n",
    "import gc\n",
    "\n",
    "s1 = {1,2,3}\n",
    "s2 = s1\n",
    "\n",
    "def bye():\n",
    "    print ('Gone with the wind...')\n",
    "    \n",
    "ender = weakref.finalize(s1, bye)\n",
    "print (ender.alive)\n",
    "\n",
    "del s1\n",
    "print (ender.alive)\n",
    "\n",
    "s2 = 'spam'\n",
    "print (ender.alive)"
   ]
  },
  {
   "cell_type": "markdown",
   "metadata": {},
   "source": [
    "### 8.6 약한 참조"
   ]
  },
  {
   "cell_type": "code",
   "execution_count": 59,
   "metadata": {
    "collapsed": false
   },
   "outputs": [
    {
     "name": "stdout",
     "output_type": "stream",
     "text": [
      "<weakref at 0x7faa64071818; to 'set' at 0x7faa640772e8>\n",
      "{0, 1}\n",
      "None\n",
      "True\n",
      "False\n"
     ]
    }
   ],
   "source": [
    "import weakref\n",
    "a_set = {0,1}\n",
    "wref =  weakref.ref(a_set)\n",
    "print (wref)\n",
    "print (wref())\n",
    "a_set = {2,3,4}\n",
    "print (wref())\n",
    "print (wref() is None)\n",
    "print (wref() is not None)"
   ]
  },
  {
   "cell_type": "markdown",
   "metadata": {},
   "source": [
    "#### 8.6.1 WeakValueDictionary 촌극"
   ]
  },
  {
   "cell_type": "code",
   "execution_count": 62,
   "metadata": {
    "collapsed": true
   },
   "outputs": [],
   "source": [
    "class Cheese:\n",
    "    def __init__(self, kind):\n",
    "        self.kind = kind\n",
    "        \n",
    "    def __repr__(self):\n",
    "        return 'Cheese(%r)' %self.kind"
   ]
  },
  {
   "cell_type": "code",
   "execution_count": 63,
   "metadata": {
    "collapsed": false
   },
   "outputs": [
    {
     "name": "stdout",
     "output_type": "stream",
     "text": [
      "['Brie', 'Parmesan', 'Red Leicester', 'Tilsit']\n",
      "['Parmesan']\n",
      "[]\n"
     ]
    }
   ],
   "source": [
    "import weakref\n",
    "stock = weakref.WeakValueDictionary()\n",
    "catalog = [Cheese('Red Leicester'), Cheese('Tilsit'), Cheese('Brie'), Cheese('Parmesan')]\n",
    "\n",
    "for cheese in catalog:\n",
    "    stock[cheese.kind] = cheese\n",
    "    \n",
    "print (sorted(stock.keys()))\n",
    "del catalog\n",
    "print (sorted(stock.keys()))\n",
    "del cheese\n",
    "print (sorted(stock.keys()))"
   ]
  },
  {
   "cell_type": "markdown",
   "metadata": {},
   "source": [
    "#### 8.6.2 약한 참조의 한계"
   ]
  },
  {
   "cell_type": "code",
   "execution_count": 66,
   "metadata": {
    "collapsed": false
   },
   "outputs": [],
   "source": [
    "class MyList(list):\n",
    "    \"\"\"약한 참조의 대상이 될 수 있는 list 서브 클래스\"\"\"\n",
    "\n",
    "a_list = MyList(range(10))\n",
    "\n",
    "# a_list는 약한 참조의 대상이 될 수 있다.\n",
    "wref_to_a_list = weakref.ref(a_list)"
   ]
  },
  {
   "cell_type": "markdown",
   "metadata": {},
   "source": [
    "### 8.7 파이썬의 특이한 불변형 처리법"
   ]
  },
  {
   "cell_type": "code",
   "execution_count": 68,
   "metadata": {
    "collapsed": false
   },
   "outputs": [
    {
     "name": "stdout",
     "output_type": "stream",
     "text": [
      "True\n",
      "(1, 2, 3)\n",
      "True\n"
     ]
    }
   ],
   "source": [
    "t1 = (1,2,3)\n",
    "t2 = tuple(t1)\n",
    "print (t2 is t1)\n",
    "t3 = t1[:]\n",
    "print (t3)\n",
    "print (t3 is t1)"
   ]
  },
  {
   "cell_type": "code",
   "execution_count": 70,
   "metadata": {
    "collapsed": false
   },
   "outputs": [
    {
     "name": "stdout",
     "output_type": "stream",
     "text": [
      "False\n",
      "True\n"
     ]
    }
   ],
   "source": [
    "t1 = (1,2,3)\n",
    "t3 = (1,2,3)\n",
    "print (t3 is t1)\n",
    "s1 = 'ABC'\n",
    "s2 = 'ABC'\n",
    "print (s1 is s2)"
   ]
  },
  {
   "cell_type": "code",
   "execution_count": null,
   "metadata": {
    "collapsed": true
   },
   "outputs": [],
   "source": []
  }
 ],
 "metadata": {
  "kernelspec": {
   "display_name": "Python 3",
   "language": "python",
   "name": "python3"
  },
  "language_info": {
   "codemirror_mode": {
    "name": "ipython",
    "version": 3
   },
   "file_extension": ".py",
   "mimetype": "text/x-python",
   "name": "python",
   "nbconvert_exporter": "python",
   "pygments_lexer": "ipython3",
   "version": "3.4.5"
  }
 },
 "nbformat": 4,
 "nbformat_minor": 0
}
