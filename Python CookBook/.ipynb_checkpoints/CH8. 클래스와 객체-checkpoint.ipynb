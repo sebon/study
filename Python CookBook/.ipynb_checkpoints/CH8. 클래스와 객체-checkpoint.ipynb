{
 "cells": [
  {
   "cell_type": "markdown",
   "metadata": {},
   "source": [
    "### 8.1 인스턴스의 문자열 표현식 변형"
   ]
  },
  {
   "cell_type": "code",
   "execution_count": 2,
   "metadata": {
    "collapsed": true
   },
   "outputs": [],
   "source": [
    "class Pair:\n",
    "    def __init__(self, x, y):\n",
    "        self.x = x\n",
    "        self.y = y\n",
    "    def __repr__(self):\n",
    "        return 'Pair({0.x!r}, {0.y!r})'.format(self)\n",
    "    def __str__(self):\n",
    "        return '{0.x!r}, {0.y!r}'.format(self)"
   ]
  },
  {
   "cell_type": "code",
   "execution_count": 7,
   "metadata": {
    "collapsed": false
   },
   "outputs": [
    {
     "data": {
      "text/plain": [
       "Pair(3, 4)"
      ]
     },
     "execution_count": 7,
     "metadata": {},
     "output_type": "execute_result"
    }
   ],
   "source": [
    "p = Pair(3,4)\n",
    "p"
   ]
  },
  {
   "cell_type": "code",
   "execution_count": 8,
   "metadata": {
    "collapsed": false
   },
   "outputs": [
    {
     "name": "stdout",
     "output_type": "stream",
     "text": [
      "3, 4\n"
     ]
    }
   ],
   "source": [
    "print (p)"
   ]
  },
  {
   "cell_type": "markdown",
   "metadata": {},
   "source": [
    "### 8.2 문자열 서식화 조절"
   ]
  },
  {
   "cell_type": "code",
   "execution_count": 12,
   "metadata": {
    "collapsed": true
   },
   "outputs": [],
   "source": [
    "_formats = {\n",
    "    'ymd' : '{d.year}-{d.month}-{d.day}',\n",
    "    'mdy' : '{d.month}-{d.day}-{d.year}',\n",
    "    'mdy' : '{d.day}-{d.month}-{d.year}',\n",
    "}\n",
    "\n",
    "class Date:\n",
    "    def __init__(self, year, month, day):\n",
    "        self.year = year\n",
    "        self.month = month\n",
    "        self.day = day\n",
    "        \n",
    "    def __format__(self, code):\n",
    "        if code == '':\n",
    "            code = 'ymd'\n",
    "        fmt = _formats[code]\n",
    "        return fmt.format(d=self)"
   ]
  },
  {
   "cell_type": "code",
   "execution_count": 13,
   "metadata": {
    "collapsed": false
   },
   "outputs": [
    {
     "name": "stdout",
     "output_type": "stream",
     "text": [
      "The date is 2017-9-12\n",
      "The date is 12-9-2017\n"
     ]
    }
   ],
   "source": [
    "d = Date(2017,9,12)\n",
    "format(d)\n",
    "print (\"The date is {:ymd}\".format(d))\n",
    "print (\"The date is {:mdy}\".format(d))"
   ]
  },
  {
   "cell_type": "markdown",
   "metadata": {
    "collapsed": true
   },
   "source": [
    "### 8.3 객체의 콘텍스트 관리 프로토골 지원"
   ]
  },
  {
   "cell_type": "code",
   "execution_count": 18,
   "metadata": {
    "collapsed": true
   },
   "outputs": [],
   "source": [
    "from socket import socket, AF_INET, SOCK_STREAM\n",
    "\n",
    "class LazyConnection:\n",
    "    def __init__(self, address, family=AF_INET, type=SOCK_STREAM):\n",
    "        self.address = address\n",
    "        self.family = AF_INET\n",
    "        self.type = SOCK_STREAM\n",
    "        self.sock = None\n",
    "    \n",
    "    def __enter__(self):\n",
    "        if self.sock is not None:\n",
    "            raise RuntimeError('Already connected')\n",
    "        self.sock = socket(self.family, self.type)\n",
    "        self.sock.connect(self.address)\n",
    "        return self.sock\n",
    "    \n",
    "    def __exit__(self, exc_try, exc_val, tb):\n",
    "        self.sock.close()\n",
    "        self.sock = None"
   ]
  },
  {
   "cell_type": "code",
   "execution_count": 19,
   "metadata": {
    "collapsed": true
   },
   "outputs": [],
   "source": [
    "from socket import socket, AF_INET, SOCK_STREAM\n",
    "\n",
    "class LazyConnection:\n",
    "    def __init__(self, address, family=AF_INET, type=SOCK_STREAM):\n",
    "        self.address = address\n",
    "        self.family = family\n",
    "        self.type = SOCK_STREAM\n",
    "        self.connections = []\n",
    "        \n",
    "    def __enter__(self):\n",
    "        sock = socket(self.family, self.type)\n",
    "        sock.connect(self.address)\n",
    "        self.connections.append(sock)\n",
    "        return sock\n",
    "    \n",
    "    def __exit__(self, exc_try, exc_val, tb):\n",
    "        self.connections.pop().close()"
   ]
  },
  {
   "cell_type": "code",
   "execution_count": 20,
   "metadata": {
    "collapsed": true
   },
   "outputs": [],
   "source": [
    "# 다중 스레드에서 잘 동작 12.6\n",
    "from socket import socket, AF_INET, SOCK_STREAM\n",
    "\n",
    "class LazyConnection:\n",
    "    def __init__(self, address, family=AF_INET, type=SOCK_STREAM):\n",
    "        self.address = address\n",
    "        self.family = AF_INET\n",
    "        self.type = SOCK_STREAM\n",
    "        self.local = threading.local()\n",
    "        \n",
    "    def __enter__(self):\n",
    "        if hasattr(self.local, 'sock'):\n",
    "            raise RuntimeError('Already connected')\n",
    "        self.local.sock = socekt(self.family, self.type)\n",
    "        self.local.sock.connect(self.address)\n",
    "        return self.local.sock\n",
    "        \n",
    "    def __exit__(self, exc_try, exc_val, tb):\n",
    "        self.local.sock.close()\n",
    "        del self.local.sock"
   ]
  },
  {
   "cell_type": "markdown",
   "metadata": {},
   "source": [
    "### 8.4 인스턴트를 많이 생성할 때 메모리 절약"
   ]
  },
  {
   "cell_type": "code",
   "execution_count": 21,
   "metadata": {
    "collapsed": true
   },
   "outputs": [],
   "source": [
    "class Date:\n",
    "    __slots__ = ['year', 'month', 'day']\n",
    "    def __init__(self, year, month, day):\n",
    "        self.year = year\n",
    "        self.month = month\n",
    "        self.day = day"
   ]
  },
  {
   "cell_type": "markdown",
   "metadata": {},
   "source": [
    "### 8.5 클래스 이름의 캡슐화"
   ]
  },
  {
   "cell_type": "code",
   "execution_count": 30,
   "metadata": {
    "collapsed": true
   },
   "outputs": [],
   "source": [
    "class A:\n",
    "    def __init__(self):\n",
    "        self._internal = 0\n",
    "        self.public = 1\n",
    "    def public_method(self):\n",
    "        pass\n",
    "    def _internal_method(self):\n",
    "        pass"
   ]
  },
  {
   "cell_type": "code",
   "execution_count": 31,
   "metadata": {
    "collapsed": true
   },
   "outputs": [],
   "source": [
    "class B:\n",
    "    def __init__(self):\n",
    "        self.__private = 0\n",
    "    def __private_method(self):\n",
    "        pass\n",
    "    def public_method(self):\n",
    "        self.__private_method()"
   ]
  },
  {
   "cell_type": "code",
   "execution_count": 32,
   "metadata": {
    "collapsed": false
   },
   "outputs": [],
   "source": [
    "class C(B):\n",
    "    def __init__(self):\n",
    "        super().__init__()\n",
    "        self.__private = 1 # B.__private를 오버라이드 하지 않는다.\n",
    "    # B.__private_method()를 오버라이드 하지 않는다.\n",
    "    def __pricate_method(self):\n",
    "        pass"
   ]
  },
  {
   "cell_type": "markdown",
   "metadata": {
    "collapsed": true
   },
   "source": [
    "### 8.6 관리 속성 만들기"
   ]
  },
  {
   "cell_type": "code",
   "execution_count": 53,
   "metadata": {
    "collapsed": true
   },
   "outputs": [],
   "source": [
    "class Person:\n",
    "    def __init__(self, first_name):\n",
    "        self.first_name = first_name\n",
    "        \n",
    "    # 게터 함수\n",
    "    @property\n",
    "    def first_name(self):\n",
    "        return self._first_name\n",
    "    \n",
    "    # 세터 함수\n",
    "    @first_name.setter\n",
    "    def first_name(self, value):\n",
    "        if not isinstance(value, str):\n",
    "            raise TypeError('Expected a string')\n",
    "        self._first_name = value\n",
    "        \n",
    "    # 딜리터 함수(옵션)\n",
    "    @first_name.deleter\n",
    "    def first_name(self):\n",
    "        raise AttributeError(\"Can't delete attribute\")"
   ]
  },
  {
   "cell_type": "code",
   "execution_count": 54,
   "metadata": {
    "collapsed": false
   },
   "outputs": [
    {
     "name": "stdout",
     "output_type": "stream",
     "text": [
      "Guido\n"
     ]
    },
    {
     "ename": "AttributeError",
     "evalue": "Can't delete attribute",
     "output_type": "error",
     "traceback": [
      "\u001b[0;31m---------------------------------------------------------------------------\u001b[0m",
      "\u001b[0;31mAttributeError\u001b[0m                            Traceback (most recent call last)",
      "\u001b[0;32m<ipython-input-54-fc674036548b>\u001b[0m in \u001b[0;36m<module>\u001b[0;34m()\u001b[0m\n\u001b[1;32m      2\u001b[0m \u001b[0mprint\u001b[0m \u001b[0;34m(\u001b[0m\u001b[0ma\u001b[0m\u001b[0;34m.\u001b[0m\u001b[0mfirst_name\u001b[0m\u001b[0;34m)\u001b[0m\u001b[0;34m\u001b[0m\u001b[0m\n\u001b[1;32m      3\u001b[0m \u001b[0;31m#a.first_name = 42 # 세터 호출\u001b[0m\u001b[0;34m\u001b[0m\u001b[0;34m\u001b[0m\u001b[0m\n\u001b[0;32m----> 4\u001b[0;31m \u001b[0;32mdel\u001b[0m \u001b[0ma\u001b[0m\u001b[0;34m.\u001b[0m\u001b[0mfirst_name\u001b[0m\u001b[0;34m\u001b[0m\u001b[0m\n\u001b[0m",
      "\u001b[0;32m<ipython-input-53-fa67eb82d423>\u001b[0m in \u001b[0;36mfirst_name\u001b[0;34m(self)\u001b[0m\n\u001b[1;32m     18\u001b[0m     \u001b[0;34m@\u001b[0m\u001b[0mfirst_name\u001b[0m\u001b[0;34m.\u001b[0m\u001b[0mdeleter\u001b[0m\u001b[0;34m\u001b[0m\u001b[0m\n\u001b[1;32m     19\u001b[0m     \u001b[0;32mdef\u001b[0m \u001b[0mfirst_name\u001b[0m\u001b[0;34m(\u001b[0m\u001b[0mself\u001b[0m\u001b[0;34m)\u001b[0m\u001b[0;34m:\u001b[0m\u001b[0;34m\u001b[0m\u001b[0m\n\u001b[0;32m---> 20\u001b[0;31m         \u001b[0;32mraise\u001b[0m \u001b[0mAttributeError\u001b[0m\u001b[0;34m(\u001b[0m\u001b[0;34m\"Can't delete attribute\"\u001b[0m\u001b[0;34m)\u001b[0m\u001b[0;34m\u001b[0m\u001b[0m\n\u001b[0m",
      "\u001b[0;31mAttributeError\u001b[0m: Can't delete attribute"
     ]
    }
   ],
   "source": [
    "a = Person('Guido') # 게터 호출\n",
    "print (a.first_name)\n",
    "#a.first_name = 42 # 세터 호출\n",
    "del a.first_name"
   ]
  },
  {
   "cell_type": "code",
   "execution_count": 55,
   "metadata": {
    "collapsed": false
   },
   "outputs": [],
   "source": [
    "class Person:\n",
    "    def __init__(self, first_name):\n",
    "        self.set_frist_name(first_name)\n",
    "    # 게터 함수\n",
    "    def get_first_name(self):\n",
    "        return self._first_name\n",
    "    \n",
    "    # 세터 함수\n",
    "    def set_first_name(self, value):\n",
    "        if not isinstance(value, str):\n",
    "            raise TypeError('Expected a string')\n",
    "        self._first_name = value\n",
    "    \n",
    "    # 딜리터 함수(옵션)\n",
    "    def del_first_name(self):\n",
    "        raise AttributeError(\"Can't delete attribute\")\n",
    "    # 기존 게터/세터 메소드로 프로퍼티 만들기\n",
    "    name = property(get_first_name, set_first_name, del_first_name)"
   ]
  },
  {
   "cell_type": "code",
   "execution_count": 56,
   "metadata": {
    "collapsed": false
   },
   "outputs": [
    {
     "ename": "AttributeError",
     "evalue": "type object 'Person' has no attribute 'first_name'",
     "output_type": "error",
     "traceback": [
      "\u001b[0;31m---------------------------------------------------------------------------\u001b[0m",
      "\u001b[0;31mAttributeError\u001b[0m                            Traceback (most recent call last)",
      "\u001b[0;32m<ipython-input-56-92b45af577f4>\u001b[0m in \u001b[0;36m<module>\u001b[0;34m()\u001b[0m\n\u001b[0;32m----> 1\u001b[0;31m \u001b[0mprint\u001b[0m \u001b[0;34m(\u001b[0m\u001b[0mPerson\u001b[0m\u001b[0;34m.\u001b[0m\u001b[0mfirst_name\u001b[0m\u001b[0;34m.\u001b[0m\u001b[0mfget\u001b[0m\u001b[0;34m)\u001b[0m\u001b[0;34m\u001b[0m\u001b[0m\n\u001b[0m\u001b[1;32m      2\u001b[0m \u001b[0mprint\u001b[0m \u001b[0;34m(\u001b[0m\u001b[0mPerson\u001b[0m\u001b[0;34m.\u001b[0m\u001b[0mfirst_name\u001b[0m\u001b[0;34m.\u001b[0m\u001b[0mfset\u001b[0m\u001b[0;34m)\u001b[0m\u001b[0;34m\u001b[0m\u001b[0m\n\u001b[1;32m      3\u001b[0m \u001b[0mprint\u001b[0m \u001b[0;34m(\u001b[0m\u001b[0mPerson\u001b[0m\u001b[0;34m.\u001b[0m\u001b[0mfirst_name\u001b[0m\u001b[0;34m.\u001b[0m\u001b[0mfdel\u001b[0m\u001b[0;34m)\u001b[0m\u001b[0;34m\u001b[0m\u001b[0m\n",
      "\u001b[0;31mAttributeError\u001b[0m: type object 'Person' has no attribute 'first_name'"
     ]
    }
   ],
   "source": [
    "print (Person.first_name.fget)\n",
    "print (Person.first_name.fset)\n",
    "print (Person.first_name.fdel)"
   ]
  },
  {
   "cell_type": "code",
   "execution_count": 57,
   "metadata": {
    "collapsed": false
   },
   "outputs": [],
   "source": [
    "class Person:\n",
    "    def __init__(self, first_name):\n",
    "        self.first_name = name\n",
    "    @property\n",
    "    def first_name(self):\n",
    "        return self._first_name\n",
    "    @first_name.setter\n",
    "    def first_name(self, value):\n",
    "        self._first_name = value    "
   ]
  },
  {
   "cell_type": "markdown",
   "metadata": {
    "collapsed": true
   },
   "source": [
    "### 8.7 부모 클래스의 메소드 호출"
   ]
  },
  {
   "cell_type": "code",
   "execution_count": 111,
   "metadata": {
    "collapsed": true
   },
   "outputs": [],
   "source": [
    "class A:\n",
    "    def spam(self):\n",
    "        print('A.spam')\n",
    "class B(A):\n",
    "    def spam(self):\n",
    "        print('B.spam')\n",
    "        super().spam() # 부모의 spam()호출"
   ]
  },
  {
   "cell_type": "code",
   "execution_count": 112,
   "metadata": {
    "collapsed": false
   },
   "outputs": [
    {
     "name": "stdout",
     "output_type": "stream",
     "text": [
      "B.spam\n",
      "A.spam\n"
     ]
    }
   ],
   "source": [
    "b = B()\n",
    "b.spam()"
   ]
  },
  {
   "cell_type": "code",
   "execution_count": 113,
   "metadata": {
    "collapsed": true
   },
   "outputs": [],
   "source": [
    "class A:\n",
    "    def spam(self):\n",
    "        self.x = 0\n",
    "class B(A):\n",
    "    def spam(self):\n",
    "        super().__init__() # super는 일반적으로 __init__메소드에서 부모를 제대로 초기화하기 위해 사용한다.\n",
    "        self.y = 1"
   ]
  },
  {
   "cell_type": "code",
   "execution_count": 114,
   "metadata": {
    "collapsed": false
   },
   "outputs": [
    {
     "name": "stdout",
     "output_type": "stream",
     "text": [
      "1\n"
     ]
    }
   ],
   "source": [
    "b = B()\n",
    "b.spam()\n",
    "print(b.y)\n",
    "# print(b.x) 나오지 않음..."
   ]
  },
  {
   "cell_type": "code",
   "execution_count": 115,
   "metadata": {
    "collapsed": true
   },
   "outputs": [],
   "source": [
    "# 파이썬 특별 메소드를 오버라이드한 코드에서 super()를 사용하기도 한다.\n",
    "class Proxy:\n",
    "    def __init__(self, obj):\n",
    "        self._obj = obj\n",
    "    # 내부 obj를 위해 델리게이트(delegate) 속성 찾기\n",
    "    def __getattr__(self, name):\n",
    "        return getattr(self._obj, name)\n",
    "    \n",
    "    # 델리게이트(delegate) 속성 할당\n",
    "    def __setattr__(self, name, value):\n",
    "        if name.startwith('_'):\n",
    "            super().__setattr__(name, value) #원본 __setatgtr__ 호출\n",
    "        else:\n",
    "            setattr(self._obj, name, value)"
   ]
  },
  {
   "cell_type": "code",
   "execution_count": 116,
   "metadata": {
    "collapsed": true
   },
   "outputs": [],
   "source": [
    "class Base:\n",
    "    def __init__(self):\n",
    "        print('Base.__init__')\n",
    "        \n",
    "class A(Base):\n",
    "    def __init__(self):\n",
    "        Base.__init__(self)\n",
    "        print('A.__init__')\n",
    "class B(Base):\n",
    "    def __init__(self):\n",
    "        Base.__init__(self)\n",
    "        print('B.__init__')\n",
    "class C(A,B):\n",
    "    def __init__(self):\n",
    "        A.__init__(self)\n",
    "        B.__init__(self)\n",
    "        print('C.__init__')"
   ]
  },
  {
   "cell_type": "code",
   "execution_count": 117,
   "metadata": {
    "collapsed": false
   },
   "outputs": [
    {
     "name": "stdout",
     "output_type": "stream",
     "text": [
      "Base.__init__\n",
      "A.__init__\n",
      "Base.__init__\n",
      "B.__init__\n",
      "C.__init__\n"
     ]
    }
   ],
   "source": [
    "c = C()"
   ]
  },
  {
   "cell_type": "code",
   "execution_count": 118,
   "metadata": {
    "collapsed": false
   },
   "outputs": [],
   "source": [
    "class Base:\n",
    "    def __init__(self):\n",
    "        print('Base.__init__')\n",
    "        \n",
    "class A(Base):\n",
    "    def __init__(self):\n",
    "        super().__init__()\n",
    "        print('A.__init__')\n",
    "class B(Base):\n",
    "    def __init__(self):\n",
    "        super().__init__()\n",
    "        print('B.__init__')\n",
    "class C(A, B):\n",
    "    def __init__(self):\n",
    "        super().__init__()\n",
    "        print('C.__init__')"
   ]
  },
  {
   "cell_type": "code",
   "execution_count": 119,
   "metadata": {
    "collapsed": false
   },
   "outputs": [
    {
     "name": "stdout",
     "output_type": "stream",
     "text": [
      "Base.__init__\n",
      "B.__init__\n",
      "A.__init__\n",
      "C.__init__\n"
     ]
    },
    {
     "data": {
      "text/plain": [
       "(__main__.C, __main__.A, __main__.B, __main__.Base, object)"
      ]
     },
     "execution_count": 119,
     "metadata": {},
     "output_type": "execute_result"
    }
   ],
   "source": [
    "c = C()\n",
    "C.__mro__"
   ]
  },
  {
   "cell_type": "markdown",
   "metadata": {
    "collapsed": true
   },
   "source": [
    "### 8.8 서브클래스에서 프로퍼티 확장"
   ]
  },
  {
   "cell_type": "code",
   "execution_count": 134,
   "metadata": {
    "collapsed": false
   },
   "outputs": [],
   "source": [
    "class Person:\n",
    "    def __init__(self, name):\n",
    "        self.name = name\n",
    "        \n",
    "    # 게터 함수\n",
    "    @property\n",
    "    def name(self):\n",
    "        return self._name\n",
    "    \n",
    "    # 세터 함수\n",
    "    @name.setter\n",
    "    def name(self, value):\n",
    "        if not isinstance(value, str):\n",
    "            raise TypeError('Expected a string')\n",
    "        self._name = value\n",
    "    \n",
    "    # 딜리터 함수\n",
    "    @name.deleter\n",
    "    def name(self):\n",
    "        raise AttributeError(\"Can't delete attribute\")\n",
    "\n",
    "class SubPerson(Person):\n",
    "    @property\n",
    "    def name(self):\n",
    "        print('Getting name')\n",
    "        return super().name\n",
    "    \n",
    "    @name.setter\n",
    "    def name(self, value):\n",
    "        print ('Setting name to', value)\n",
    "        super(SubPerson, SubPerson).name.__set__(self, value)\n",
    "        \n",
    "    @name.deleter\n",
    "    def name(self):\n",
    "        print('Deleting name')\n",
    "        super(SubPerson, SubPerson).name.__delete__(self)"
   ]
  },
  {
   "cell_type": "code",
   "execution_count": 135,
   "metadata": {
    "collapsed": false
   },
   "outputs": [
    {
     "name": "stdout",
     "output_type": "stream",
     "text": [
      "Setting name to Guido\n"
     ]
    }
   ],
   "source": [
    "s =  SubPerson('Guido')"
   ]
  },
  {
   "cell_type": "code",
   "execution_count": 136,
   "metadata": {
    "collapsed": false
   },
   "outputs": [
    {
     "name": "stdout",
     "output_type": "stream",
     "text": [
      "Getting name\n"
     ]
    },
    {
     "data": {
      "text/plain": [
       "'Guido'"
      ]
     },
     "execution_count": 136,
     "metadata": {},
     "output_type": "execute_result"
    }
   ],
   "source": [
    "s.name"
   ]
  },
  {
   "cell_type": "code",
   "execution_count": 137,
   "metadata": {
    "collapsed": false
   },
   "outputs": [
    {
     "name": "stdout",
     "output_type": "stream",
     "text": [
      "Setting name to Larry\n"
     ]
    }
   ],
   "source": [
    "s.name = 'Larry'\n",
    "# s.name =42"
   ]
  },
  {
   "cell_type": "markdown",
   "metadata": {
    "collapsed": false
   },
   "source": [
    "### 8.9 새로운 클래스나 인스턴스 속성 만들기"
   ]
  },
  {
   "cell_type": "code",
   "execution_count": 159,
   "metadata": {
    "collapsed": false
   },
   "outputs": [],
   "source": [
    "# 타입을 확인하는 정수형 디스크립터 속성\n",
    "class Integer:\n",
    "    def __init__(self, name):\n",
    "        self.name = name\n",
    "    def __get__(self, instance, cls):\n",
    "        if instance is None:\n",
    "            return self\n",
    "        else:\n",
    "            return instance.__dict__[self.name]\n",
    "    def __set__(self, instance, value):\n",
    "        if not isinstance(value, int):\n",
    "            raise TypeError(value, int)\n",
    "        instance.__dict__[self.name] = value\n",
    "    def __delete__(self, instance):\n",
    "        del intance.__dict__[self.name]\n",
    "class Point:\n",
    "    x = Integer('x')\n",
    "    y = Integer('y')\n",
    "    def __init__(self, x, y):\n",
    "        self.x = x\n",
    "        self.y = y"
   ]
  },
  {
   "cell_type": "code",
   "execution_count": 160,
   "metadata": {
    "collapsed": false
   },
   "outputs": [
    {
     "name": "stdout",
     "output_type": "stream",
     "text": [
      "2\n"
     ]
    }
   ],
   "source": [
    "p = Point(2, 3)\n",
    "print (p.x)\n",
    "p.y = 5\n",
    "# p.x = 4.3 # 에러가 난다."
   ]
  },
  {
   "cell_type": "code",
   "execution_count": 161,
   "metadata": {
    "collapsed": false
   },
   "outputs": [],
   "source": [
    "# 속성 타입을 확인하는 디스크립터\n",
    "class Typed:\n",
    "    def __init__(self, name, expected_type):\n",
    "        self.name = name\n",
    "        self.expected_type = expected_type\n",
    "        \n",
    "    def __get__(self, instance, cls):\n",
    "        if instance is None:\n",
    "            return self\n",
    "        else:\n",
    "            return instacne.__dict__[self.name]\n",
    "        \n",
    "    def __set__(self, instance, value):\n",
    "        if not isinstance(value, self.expected_type):\n",
    "            raise TypeError('Expected ')+ str(self.expected_type)\n",
    "        instance.__dict__[self.name] = value\n",
    "    def __delete__(self, instance):\n",
    "        del instance.__dict__[self.name]\n",
    "        \n",
    "    # 선택한 속성에 적용되는 클래스 데코레이터(decorator)\n",
    "    def typeassert(**kwargs):\n",
    "        def decorate(cls):\n",
    "            for name, expected_type in kwargs.items():\n",
    "                # 클래스에 Typed 디스크립터 설정\n",
    "                setattr(cls, name, Typed(name, expected_type))\n",
    "            return cls\n",
    "        return decorate\n",
    "    # 사용 예\n",
    "    @typeassert(name=str, shares= int, price=float)\n",
    "    class Stock:\n",
    "        def __init__(self, name, shares, price):\n",
    "            self.name = name\n",
    "            self.shares =shares\n",
    "            self.price = price"
   ]
  },
  {
   "cell_type": "markdown",
   "metadata": {
    "collapsed": false
   },
   "source": [
    "### 8.10 게으른 계산을 하는 프로퍼티 사용"
   ]
  },
  {
   "cell_type": "code",
   "execution_count": 245,
   "metadata": {
    "collapsed": true
   },
   "outputs": [],
   "source": [
    "class lazyproperty:\n",
    "    def __init__(self, func):\n",
    "        self.func = func\n",
    "        \n",
    "    def __get__(self, instance, cls):\n",
    "        if instance is None:\n",
    "            return self\n",
    "        else:\n",
    "            value = self.func(instance)\n",
    "            setattr(instance, self.func.__name__, value)\n",
    "            return value"
   ]
  },
  {
   "cell_type": "code",
   "execution_count": 246,
   "metadata": {
    "collapsed": false
   },
   "outputs": [],
   "source": [
    "import math\n",
    "\n",
    "class Circle:\n",
    "    def __init__(self, radius):\n",
    "        self.radius = radius\n",
    "        \n",
    "    @lazyproperty\n",
    "    def area(self):\n",
    "        print ('Computing area')\n",
    "        return math.pi * self.radius **2\n",
    "    @lazyproperty\n",
    "    def perimeter(self):\n",
    "        print ('Computing perimeter')\n",
    "        return 2 * math.pi * self.radius"
   ]
  },
  {
   "cell_type": "code",
   "execution_count": 247,
   "metadata": {
    "collapsed": false
   },
   "outputs": [
    {
     "name": "stdout",
     "output_type": "stream",
     "text": [
      "4.0\n",
      "{'radius': 4.0}\n",
      "Computing area\n",
      "50.26548245743669\n",
      "50.26548245743669\n",
      "Computing perimeter\n",
      "25.132741228718345\n",
      "25.132741228718345\n"
     ]
    }
   ],
   "source": [
    "c = Circle (4.0)\n",
    "print (c.radius)\n",
    "print (c.__dict__)\n",
    "print (c.area)\n",
    "print (c.area)\n",
    "print (c.perimeter)\n",
    "print (c.perimeter)"
   ]
  },
  {
   "cell_type": "code",
   "execution_count": 248,
   "metadata": {
    "collapsed": false
   },
   "outputs": [
    {
     "name": "stdout",
     "output_type": "stream",
     "text": [
      "{'radius': 4.0}\n",
      "Computing area\n",
      "50.26548245743669\n",
      "{'radius': 4.0, 'area': 50.26548245743669}\n",
      "50.26548245743669\n",
      "{'radius': 4.0}\n",
      "Computing area\n",
      "50.26548245743669\n"
     ]
    }
   ],
   "source": [
    "c = Circle(4.0)\n",
    "# 인스턴스 변수 구하기\n",
    "print (vars(c))\n",
    "\n",
    "# 면적을 계산하고 추후 변수 확인\n",
    "print (c.area)\n",
    "print (vars(c))\n",
    "\n",
    "# 속성에 접근해도 더 이상 프로퍼티를 실행하지 않는다.\n",
    "print (c.area)\n",
    "\n",
    "# 변수를 삭제하고 프로퍼티가 다시 실행됨을 확인한다.\n",
    "del (c.area)\n",
    "print (vars (c))\n",
    "print (c.area)"
   ]
  },
  {
   "cell_type": "code",
   "execution_count": 249,
   "metadata": {
    "collapsed": false
   },
   "outputs": [
    {
     "name": "stdout",
     "output_type": "stream",
     "text": [
      "50.26548245743669\n",
      "25\n"
     ]
    }
   ],
   "source": [
    "print (c.area)\n",
    "c.area = 25\n",
    "print (c.area)"
   ]
  },
  {
   "cell_type": "code",
   "execution_count": 250,
   "metadata": {
    "collapsed": true
   },
   "outputs": [],
   "source": [
    "def lazyproperty(func):\n",
    "    name = '_lazy_' + func.__name__\n",
    "    @property\n",
    "    def lazy(self):\n",
    "        if hasattr(self, name):\n",
    "            return getattr(self, name)\n",
    "        else:\n",
    "            value = func(self)\n",
    "            setattr(self, name, value)\n",
    "            return value\n",
    "    return lazy"
   ]
  },
  {
   "cell_type": "code",
   "execution_count": 251,
   "metadata": {
    "collapsed": true
   },
   "outputs": [],
   "source": [
    "import math\n",
    "\n",
    "class Circle:\n",
    "    def __init__(self, radius):\n",
    "        self.radius = radius\n",
    "        \n",
    "    @lazyproperty\n",
    "    def area(self):\n",
    "        print ('Computing area')\n",
    "        return math.pi * self.radius **2\n",
    "    @lazyproperty\n",
    "    def perimeter(self):\n",
    "        print ('Computing perimeter')\n",
    "        return 2 * math.pi * self.radius"
   ]
  },
  {
   "cell_type": "code",
   "execution_count": 252,
   "metadata": {
    "collapsed": false
   },
   "outputs": [
    {
     "name": "stdout",
     "output_type": "stream",
     "text": [
      "Computing area\n",
      "50.26548245743669\n",
      "50.26548245743669\n"
     ]
    },
    {
     "ename": "AttributeError",
     "evalue": "can't set attribute",
     "output_type": "error",
     "traceback": [
      "\u001b[0;31m---------------------------------------------------------------------------\u001b[0m",
      "\u001b[0;31mAttributeError\u001b[0m                            Traceback (most recent call last)",
      "\u001b[0;32m<ipython-input-252-4aefdae69824>\u001b[0m in \u001b[0;36m<module>\u001b[0;34m()\u001b[0m\n\u001b[1;32m      2\u001b[0m \u001b[0mprint\u001b[0m \u001b[0;34m(\u001b[0m\u001b[0mc\u001b[0m\u001b[0;34m.\u001b[0m\u001b[0marea\u001b[0m\u001b[0;34m)\u001b[0m\u001b[0;34m\u001b[0m\u001b[0m\n\u001b[1;32m      3\u001b[0m \u001b[0mprint\u001b[0m \u001b[0;34m(\u001b[0m\u001b[0mc\u001b[0m\u001b[0;34m.\u001b[0m\u001b[0marea\u001b[0m\u001b[0;34m)\u001b[0m\u001b[0;34m\u001b[0m\u001b[0m\n\u001b[0;32m----> 4\u001b[0;31m \u001b[0mc\u001b[0m\u001b[0;34m.\u001b[0m\u001b[0marea\u001b[0m \u001b[0;34m=\u001b[0m\u001b[0;36m25\u001b[0m\u001b[0;34m\u001b[0m\u001b[0m\n\u001b[0m\u001b[1;32m      5\u001b[0m \u001b[0mprint\u001b[0m \u001b[0;34m(\u001b[0m\u001b[0mc\u001b[0m\u001b[0;34m.\u001b[0m\u001b[0marea\u001b[0m\u001b[0;34m)\u001b[0m\u001b[0;34m\u001b[0m\u001b[0m\n",
      "\u001b[0;31mAttributeError\u001b[0m: can't set attribute"
     ]
    }
   ],
   "source": [
    "c = Circle(4.0)\n",
    "print (c.area)\n",
    "print (c.area)\n",
    "c.area =25\n",
    "print (c.area)"
   ]
  },
  {
   "cell_type": "markdown",
   "metadata": {
    "collapsed": true
   },
   "source": [
    "### 8.11 자료 구조 초기화 단순화하기"
   ]
  },
  {
   "cell_type": "code",
   "execution_count": 257,
   "metadata": {
    "collapsed": false
   },
   "outputs": [],
   "source": [
    "class Structure:\n",
    "    # 예상되는 필드를 명시하는 클래스 변수\n",
    "    _fields = []\n",
    "    def __init__(self, *args):\n",
    "        if len(args) != len(self._fields):\n",
    "            raise TypeError('Expected {} arguments'.format(len(self._fields)))\n",
    "        # 속성 설정\n",
    "        for name, value in zip(self._fields, args):\n",
    "            setattr(self, name, value)\n",
    "        \n",
    "        # 예제 클래스 정의\n",
    "      \n",
    "class Stock(Structure):\n",
    "    _fields = ['name', 'shares', 'price']\n",
    "\n",
    "class Point(Structure):\n",
    "    _fields = ['x', 'y']\n",
    "\n",
    "class Circle(Structure):\n",
    "    _fields = ['radius']\n",
    "    def area(self):\n",
    "        return math.pi * self.radius **2"
   ]
  },
  {
   "cell_type": "code",
   "execution_count": 259,
   "metadata": {
    "collapsed": false
   },
   "outputs": [
    {
     "ename": "TypeError",
     "evalue": "Expected 3 arguments",
     "output_type": "error",
     "traceback": [
      "\u001b[0;31m---------------------------------------------------------------------------\u001b[0m",
      "\u001b[0;31mTypeError\u001b[0m                                 Traceback (most recent call last)",
      "\u001b[0;32m<ipython-input-259-b919f31d4b53>\u001b[0m in \u001b[0;36m<module>\u001b[0;34m()\u001b[0m\n\u001b[1;32m      2\u001b[0m \u001b[0mp\u001b[0m \u001b[0;34m=\u001b[0m \u001b[0mPoint\u001b[0m\u001b[0;34m(\u001b[0m\u001b[0;36m2\u001b[0m\u001b[0;34m,\u001b[0m\u001b[0;36m3\u001b[0m\u001b[0;34m)\u001b[0m\u001b[0;34m\u001b[0m\u001b[0m\n\u001b[1;32m      3\u001b[0m \u001b[0mc\u001b[0m \u001b[0;34m=\u001b[0m \u001b[0mCircle\u001b[0m\u001b[0;34m(\u001b[0m\u001b[0;36m4.5\u001b[0m\u001b[0;34m)\u001b[0m\u001b[0;34m\u001b[0m\u001b[0m\n\u001b[0;32m----> 4\u001b[0;31m \u001b[0ms2\u001b[0m \u001b[0;34m=\u001b[0m \u001b[0mStock\u001b[0m\u001b[0;34m(\u001b[0m\u001b[0;34m'ACME'\u001b[0m\u001b[0;34m,\u001b[0m \u001b[0;36m50\u001b[0m\u001b[0;34m)\u001b[0m\u001b[0;34m\u001b[0m\u001b[0m\n\u001b[0m",
      "\u001b[0;32m<ipython-input-257-f543d0273783>\u001b[0m in \u001b[0;36m__init__\u001b[0;34m(self, *args)\u001b[0m\n\u001b[1;32m      4\u001b[0m     \u001b[0;32mdef\u001b[0m \u001b[0m__init__\u001b[0m\u001b[0;34m(\u001b[0m\u001b[0mself\u001b[0m\u001b[0;34m,\u001b[0m \u001b[0;34m*\u001b[0m\u001b[0margs\u001b[0m\u001b[0;34m)\u001b[0m\u001b[0;34m:\u001b[0m\u001b[0;34m\u001b[0m\u001b[0m\n\u001b[1;32m      5\u001b[0m         \u001b[0;32mif\u001b[0m \u001b[0mlen\u001b[0m\u001b[0;34m(\u001b[0m\u001b[0margs\u001b[0m\u001b[0;34m)\u001b[0m \u001b[0;34m!=\u001b[0m \u001b[0mlen\u001b[0m\u001b[0;34m(\u001b[0m\u001b[0mself\u001b[0m\u001b[0;34m.\u001b[0m\u001b[0m_fields\u001b[0m\u001b[0;34m)\u001b[0m\u001b[0;34m:\u001b[0m\u001b[0;34m\u001b[0m\u001b[0m\n\u001b[0;32m----> 6\u001b[0;31m             \u001b[0;32mraise\u001b[0m \u001b[0mTypeError\u001b[0m\u001b[0;34m(\u001b[0m\u001b[0;34m'Expected {} arguments'\u001b[0m\u001b[0;34m.\u001b[0m\u001b[0mformat\u001b[0m\u001b[0;34m(\u001b[0m\u001b[0mlen\u001b[0m\u001b[0;34m(\u001b[0m\u001b[0mself\u001b[0m\u001b[0;34m.\u001b[0m\u001b[0m_fields\u001b[0m\u001b[0;34m)\u001b[0m\u001b[0;34m)\u001b[0m\u001b[0;34m)\u001b[0m\u001b[0;34m\u001b[0m\u001b[0m\n\u001b[0m\u001b[1;32m      7\u001b[0m         \u001b[0;31m# 속성 설정\u001b[0m\u001b[0;34m\u001b[0m\u001b[0;34m\u001b[0m\u001b[0m\n\u001b[1;32m      8\u001b[0m         \u001b[0;32mfor\u001b[0m \u001b[0mname\u001b[0m\u001b[0;34m,\u001b[0m \u001b[0mvalue\u001b[0m \u001b[0;32min\u001b[0m \u001b[0mzip\u001b[0m\u001b[0;34m(\u001b[0m\u001b[0mself\u001b[0m\u001b[0;34m.\u001b[0m\u001b[0m_fields\u001b[0m\u001b[0;34m,\u001b[0m \u001b[0margs\u001b[0m\u001b[0;34m)\u001b[0m\u001b[0;34m:\u001b[0m\u001b[0;34m\u001b[0m\u001b[0m\n",
      "\u001b[0;31mTypeError\u001b[0m: Expected 3 arguments"
     ]
    }
   ],
   "source": [
    "s = Stock('ACME', 50, 91.1)\n",
    "p = Point(2,3)\n",
    "c = Circle(4.5)\n",
    "s2 = Stock('ACME', 50)"
   ]
  },
  {
   "cell_type": "code",
   "execution_count": null,
   "metadata": {
    "collapsed": true
   },
   "outputs": [],
   "source": []
  }
 ],
 "metadata": {
  "kernelspec": {
   "display_name": "Python 3",
   "language": "python",
   "name": "python3"
  },
  "language_info": {
   "codemirror_mode": {
    "name": "ipython",
    "version": 3
   },
   "file_extension": ".py",
   "mimetype": "text/x-python",
   "name": "python",
   "nbconvert_exporter": "python",
   "pygments_lexer": "ipython3",
   "version": "3.4.5"
  }
 },
 "nbformat": 4,
 "nbformat_minor": 0
}
